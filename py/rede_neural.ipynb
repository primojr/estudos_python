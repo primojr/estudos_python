{
  "nbformat": 4,
  "nbformat_minor": 0,
  "metadata": {
    "colab": {
      "name": "rede_neural.ipynb",
      "provenance": [],
      "authorship_tag": "ABX9TyMTPp/oTUdYoWgdAXyfYjUd",
      "include_colab_link": true
    },
    "kernelspec": {
      "name": "python3",
      "display_name": "Python 3"
    },
    "language_info": {
      "name": "python"
    }
  },
  "cells": [
    {
      "cell_type": "markdown",
      "metadata": {
        "id": "view-in-github",
        "colab_type": "text"
      },
      "source": [
        "<a href=\"https://colab.research.google.com/github/primojr/estudos_python/blob/master/py/rede_neural.ipynb\" target=\"_parent\"><img src=\"https://colab.research.google.com/assets/colab-badge.svg\" alt=\"Open In Colab\"/></a>"
      ]
    },
    {
      "cell_type": "markdown",
      "source": [
        "\n",
        "# Objetivo:\n",
        "\n",
        "## Treinar o modelo usando `MLPClassifier` e comprar o resultado do `randon_forest`\n"
      ],
      "metadata": {
        "id": "KfkdrsTdCYgZ"
      }
    },
    {
      "cell_type": "markdown",
      "source": [
        "## 1.Importar bibliotecas "
      ],
      "metadata": {
        "id": "2GGZZ9lfODmo"
      }
    },
    {
      "cell_type": "code",
      "execution_count": 1,
      "metadata": {
        "id": "SulEQ-C2JFOI"
      },
      "outputs": [],
      "source": [
        "from sklearn import datasets \n",
        "from sklearn.neural_network import  MLPClassifier \n",
        "\n",
        "# # Bibliotecas Auxiliares\n",
        "import numpy as np\n",
        "import pandas as pd\n",
        "import matplotlib.pyplot as plt\n",
        "\n",
        "np.random.seed(13)\n",
        "\n",
        "df = pd.read_csv(\"dfFAmostra.csv\", delimiter=\";\")\n",
        "\n",
        "# # TensorFlow e tf.keras\n",
        "# import tensorflow as tf\n",
        "# from tensorflow import keras\n",
        "\n",
        "\n",
        "# print(tf.__version__)"
      ]
    },
    {
      "cell_type": "code",
      "source": [
        "df.head(2)"
      ],
      "metadata": {
        "colab": {
          "base_uri": "https://localhost:8080/",
          "height": 226
        },
        "id": "-FZy0UNak5Gv",
        "outputId": "023eab7e-2edb-4c68-9636-6989ee1e23e9"
      },
      "execution_count": null,
      "outputs": [
        {
          "output_type": "execute_result",
          "data": {
            "text/plain": [
              "                                     id   system  sexo_f class_cep  \\\n",
              "0  e281e652-c369-4a8b-9a36-6e085cfcfca5  android       1  B.Neutro   \n",
              "1  f987742c-4e4f-418b-a95d-2fedba305f4f  android       0  B.Neutro   \n",
              "\n",
              "   t.idade_ate30  t.br  t.inpp  t.offus  t.b2w  t.lasa  t.ampl_rec  \\\n",
              "0              0     0       0        0      0       1   -5.225747   \n",
              "1              0     0       0        1      0       0   -6.654153   \n",
              "\n",
              "   t.ampl_app  t.frente_offus_inapp  t.band_outras       classe1  \n",
              "0   -1.120118                     0              0  SemCartaoApp  \n",
              "1    2.538974                     0              0  ComCartaoApp  "
            ],
            "text/html": [
              "\n",
              "  <div id=\"df-6d521406-2253-483b-ad96-e5601c4d5e83\">\n",
              "    <div class=\"colab-df-container\">\n",
              "      <div>\n",
              "<style scoped>\n",
              "    .dataframe tbody tr th:only-of-type {\n",
              "        vertical-align: middle;\n",
              "    }\n",
              "\n",
              "    .dataframe tbody tr th {\n",
              "        vertical-align: top;\n",
              "    }\n",
              "\n",
              "    .dataframe thead th {\n",
              "        text-align: right;\n",
              "    }\n",
              "</style>\n",
              "<table border=\"1\" class=\"dataframe\">\n",
              "  <thead>\n",
              "    <tr style=\"text-align: right;\">\n",
              "      <th></th>\n",
              "      <th>id</th>\n",
              "      <th>system</th>\n",
              "      <th>sexo_f</th>\n",
              "      <th>class_cep</th>\n",
              "      <th>t.idade_ate30</th>\n",
              "      <th>t.br</th>\n",
              "      <th>t.inpp</th>\n",
              "      <th>t.offus</th>\n",
              "      <th>t.b2w</th>\n",
              "      <th>t.lasa</th>\n",
              "      <th>t.ampl_rec</th>\n",
              "      <th>t.ampl_app</th>\n",
              "      <th>t.frente_offus_inapp</th>\n",
              "      <th>t.band_outras</th>\n",
              "      <th>classe1</th>\n",
              "    </tr>\n",
              "  </thead>\n",
              "  <tbody>\n",
              "    <tr>\n",
              "      <th>0</th>\n",
              "      <td>e281e652-c369-4a8b-9a36-6e085cfcfca5</td>\n",
              "      <td>android</td>\n",
              "      <td>1</td>\n",
              "      <td>B.Neutro</td>\n",
              "      <td>0</td>\n",
              "      <td>0</td>\n",
              "      <td>0</td>\n",
              "      <td>0</td>\n",
              "      <td>0</td>\n",
              "      <td>1</td>\n",
              "      <td>-5.225747</td>\n",
              "      <td>-1.120118</td>\n",
              "      <td>0</td>\n",
              "      <td>0</td>\n",
              "      <td>SemCartaoApp</td>\n",
              "    </tr>\n",
              "    <tr>\n",
              "      <th>1</th>\n",
              "      <td>f987742c-4e4f-418b-a95d-2fedba305f4f</td>\n",
              "      <td>android</td>\n",
              "      <td>0</td>\n",
              "      <td>B.Neutro</td>\n",
              "      <td>0</td>\n",
              "      <td>0</td>\n",
              "      <td>0</td>\n",
              "      <td>1</td>\n",
              "      <td>0</td>\n",
              "      <td>0</td>\n",
              "      <td>-6.654153</td>\n",
              "      <td>2.538974</td>\n",
              "      <td>0</td>\n",
              "      <td>0</td>\n",
              "      <td>ComCartaoApp</td>\n",
              "    </tr>\n",
              "  </tbody>\n",
              "</table>\n",
              "</div>\n",
              "      <button class=\"colab-df-convert\" onclick=\"convertToInteractive('df-6d521406-2253-483b-ad96-e5601c4d5e83')\"\n",
              "              title=\"Convert this dataframe to an interactive table.\"\n",
              "              style=\"display:none;\">\n",
              "        \n",
              "  <svg xmlns=\"http://www.w3.org/2000/svg\" height=\"24px\"viewBox=\"0 0 24 24\"\n",
              "       width=\"24px\">\n",
              "    <path d=\"M0 0h24v24H0V0z\" fill=\"none\"/>\n",
              "    <path d=\"M18.56 5.44l.94 2.06.94-2.06 2.06-.94-2.06-.94-.94-2.06-.94 2.06-2.06.94zm-11 1L8.5 8.5l.94-2.06 2.06-.94-2.06-.94L8.5 2.5l-.94 2.06-2.06.94zm10 10l.94 2.06.94-2.06 2.06-.94-2.06-.94-.94-2.06-.94 2.06-2.06.94z\"/><path d=\"M17.41 7.96l-1.37-1.37c-.4-.4-.92-.59-1.43-.59-.52 0-1.04.2-1.43.59L10.3 9.45l-7.72 7.72c-.78.78-.78 2.05 0 2.83L4 21.41c.39.39.9.59 1.41.59.51 0 1.02-.2 1.41-.59l7.78-7.78 2.81-2.81c.8-.78.8-2.07 0-2.86zM5.41 20L4 18.59l7.72-7.72 1.47 1.35L5.41 20z\"/>\n",
              "  </svg>\n",
              "      </button>\n",
              "      \n",
              "  <style>\n",
              "    .colab-df-container {\n",
              "      display:flex;\n",
              "      flex-wrap:wrap;\n",
              "      gap: 12px;\n",
              "    }\n",
              "\n",
              "    .colab-df-convert {\n",
              "      background-color: #E8F0FE;\n",
              "      border: none;\n",
              "      border-radius: 50%;\n",
              "      cursor: pointer;\n",
              "      display: none;\n",
              "      fill: #1967D2;\n",
              "      height: 32px;\n",
              "      padding: 0 0 0 0;\n",
              "      width: 32px;\n",
              "    }\n",
              "\n",
              "    .colab-df-convert:hover {\n",
              "      background-color: #E2EBFA;\n",
              "      box-shadow: 0px 1px 2px rgba(60, 64, 67, 0.3), 0px 1px 3px 1px rgba(60, 64, 67, 0.15);\n",
              "      fill: #174EA6;\n",
              "    }\n",
              "\n",
              "    [theme=dark] .colab-df-convert {\n",
              "      background-color: #3B4455;\n",
              "      fill: #D2E3FC;\n",
              "    }\n",
              "\n",
              "    [theme=dark] .colab-df-convert:hover {\n",
              "      background-color: #434B5C;\n",
              "      box-shadow: 0px 1px 3px 1px rgba(0, 0, 0, 0.15);\n",
              "      filter: drop-shadow(0px 1px 2px rgba(0, 0, 0, 0.3));\n",
              "      fill: #FFFFFF;\n",
              "    }\n",
              "  </style>\n",
              "\n",
              "      <script>\n",
              "        const buttonEl =\n",
              "          document.querySelector('#df-6d521406-2253-483b-ad96-e5601c4d5e83 button.colab-df-convert');\n",
              "        buttonEl.style.display =\n",
              "          google.colab.kernel.accessAllowed ? 'block' : 'none';\n",
              "\n",
              "        async function convertToInteractive(key) {\n",
              "          const element = document.querySelector('#df-6d521406-2253-483b-ad96-e5601c4d5e83');\n",
              "          const dataTable =\n",
              "            await google.colab.kernel.invokeFunction('convertToInteractive',\n",
              "                                                     [key], {});\n",
              "          if (!dataTable) return;\n",
              "\n",
              "          const docLinkHtml = 'Like what you see? Visit the ' +\n",
              "            '<a target=\"_blank\" href=https://colab.research.google.com/notebooks/data_table.ipynb>data table notebook</a>'\n",
              "            + ' to learn more about interactive tables.';\n",
              "          element.innerHTML = '';\n",
              "          dataTable['output_type'] = 'display_data';\n",
              "          await google.colab.output.renderOutput(dataTable, element);\n",
              "          const docLink = document.createElement('div');\n",
              "          docLink.innerHTML = docLinkHtml;\n",
              "          element.appendChild(docLink);\n",
              "        }\n",
              "      </script>\n",
              "    </div>\n",
              "  </div>\n",
              "  "
            ]
          },
          "metadata": {},
          "execution_count": 2
        }
      ]
    },
    {
      "cell_type": "markdown",
      "source": [
        "# 2. Ajustes na base"
      ],
      "metadata": {
        "id": "mB3V8VQwye2e"
      }
    },
    {
      "cell_type": "code",
      "source": [
        "# Sys\n",
        "df['system'] = df['system'].replace('android','1')\n",
        "df['system'] = df['system'].replace('ios','0')\n",
        "df['system'] = df['system'].astype(float)\n",
        "\n",
        "# # Classe cep\n",
        "df['class_cep'].value_counts()\n",
        "df['class_cep'] = df['class_cep'].replace('A.Ruim','0')\n",
        "df['class_cep'] = df['class_cep'].replace('B.Neutro','1')\n",
        "df['class_cep'] = df['class_cep'].replace('C.Medio','2')\n",
        "df['class_cep'] = df['class_cep'].replace('D.Bom','3')\n",
        "df['class_cep'] = df['class_cep'].replace('E.MuitoBom','4')\n",
        "df['class_cep'] = df['class_cep'].astype(float)\n",
        "\n",
        "# Remover na()\n",
        "df = df.dropna()\n",
        "df = df.reset_index()\n",
        "\n",
        "#I Tipos dos dados\n",
        "df.dtypes"
      ],
      "metadata": {
        "colab": {
          "base_uri": "https://localhost:8080/"
        },
        "id": "M8Cj_YdbkDiw",
        "outputId": "77135f85-c489-415a-9cdc-c31fe3eb1942"
      },
      "execution_count": 2,
      "outputs": [
        {
          "output_type": "execute_result",
          "data": {
            "text/plain": [
              "index                     int64\n",
              "id                       object\n",
              "system                  float64\n",
              "sexo_f                    int64\n",
              "class_cep               float64\n",
              "t.idade_ate30             int64\n",
              "t.br                      int64\n",
              "t.inpp                    int64\n",
              "t.offus                   int64\n",
              "t.b2w                     int64\n",
              "t.lasa                    int64\n",
              "t.ampl_rec              float64\n",
              "t.ampl_app              float64\n",
              "t.frente_offus_inapp      int64\n",
              "t.band_outras             int64\n",
              "classe1                  object\n",
              "dtype: object"
            ]
          },
          "metadata": {},
          "execution_count": 2
        }
      ]
    },
    {
      "cell_type": "markdown",
      "source": [
        "# 3. Separar amostra e treino"
      ],
      "metadata": {
        "id": "aX-b9ZYMORQA"
      }
    },
    {
      "cell_type": "code",
      "source": [
        "#df = df.loc[:,df.columns[1:]]\n",
        "X = df.loc[:, df.columns[2:14]]\n",
        "y = df.loc[:,['classe1']]\n",
        "\n",
        "n_aleatorio = np.arange(df.shape[0])\n",
        "np.random.shuffle(n_aleatorio)\n",
        "\n",
        "X_train = X.loc[n_aleatorio[:3000],:]\n",
        "X_test  = X.loc[n_aleatorio[3000:],:]\n",
        "\n",
        "y_train = y.loc[n_aleatorio[:3000],:]\n",
        "y_test  = y.loc[n_aleatorio[3000:],:]\n"
      ],
      "metadata": {
        "id": "IjgfYCGVOQlx"
      },
      "execution_count": 3,
      "outputs": []
    },
    {
      "cell_type": "markdown",
      "source": [
        "# 4. Treino do modelo\n",
        "\n",
        "- **Paramentros:**\n",
        "  - `hidden_layer_sizes` = \n",
        "  - `activation` = Função de ativação\n",
        "  - `max_inter` = Maximo de interação\n",
        "  - `learning_rate_init` = \n",
        "\n"
      ],
      "metadata": {
        "id": "O8pyMWzIxtct"
      }
    },
    {
      "cell_type": "code",
      "source": [
        "from pandas.core.common import random_state\n",
        "clf = MLPClassifier(solver = 'adam',\n",
        "                    hidden_layer_sizes=(2,) ,\n",
        "                    learning_rate_init=0.00001, \n",
        "                    activation='logistic',\n",
        "                    max_iter = 1500,\n",
        "                    random_state = 1\n",
        "                    )\n",
        "\n",
        "clf.fit(X_train, y_train)\n",
        "\n",
        "y_pred = clf.predict_proba(X_test)\n",
        "y_pred"
      ],
      "metadata": {
        "colab": {
          "base_uri": "https://localhost:8080/"
        },
        "id": "z8eBh9eLR-n6",
        "outputId": "3f1682c0-479a-4709-d2ad-ba9aba670794"
      },
      "execution_count": 32,
      "outputs": [
        {
          "output_type": "stream",
          "name": "stderr",
          "text": [
            "/usr/local/lib/python3.7/dist-packages/sklearn/neural_network/_multilayer_perceptron.py:1109: DataConversionWarning: A column-vector y was passed when a 1d array was expected. Please change the shape of y to (n_samples, ), for example using ravel().\n",
            "  y = column_or_1d(y, warn=True)\n"
          ]
        },
        {
          "output_type": "execute_result",
          "data": {
            "text/plain": [
              "array([[0.68800329, 0.31199671],\n",
              "       [0.65993623, 0.34006377],\n",
              "       [0.6498373 , 0.3501627 ],\n",
              "       ...,\n",
              "       [0.68566716, 0.31433284],\n",
              "       [0.61285889, 0.38714111],\n",
              "       [0.63827282, 0.36172718]])"
            ]
          },
          "metadata": {},
          "execution_count": 32
        }
      ]
    },
    {
      "cell_type": "markdown",
      "source": [
        "# 5. Validar ajuste"
      ],
      "metadata": {
        "id": "_r3jg9RYy2-D"
      }
    },
    {
      "cell_type": "code",
      "source": [
        "# Categorizar a Classe de previsão\n",
        "y_linha = pd.DataFrame(y_pred)\n",
        "\n",
        "y_linha.loc[y_linha[1] >= .5, 'Class'] = 'ComCartaoApp'\n",
        "y_linha.loc[y_linha[1] <  .5, 'Class'] = 'SemCartaoApp' \n",
        "  \n",
        "# y_linha['Class'].value_counts()\n",
        "#print(type(y_pred), type(y_test))"
      ],
      "metadata": {
        "id": "YnitnGDw5umX"
      },
      "execution_count": 33,
      "outputs": []
    },
    {
      "cell_type": "code",
      "source": [
        "from sklearn.metrics import accuracy_score\n",
        "accuracy_score(y_test, y_linha['Class'])"
      ],
      "metadata": {
        "colab": {
          "base_uri": "https://localhost:8080/"
        },
        "id": "BJDYmzZM3n4y",
        "outputId": "72990f0a-b72e-4ebd-c2c8-4ec9c95f5c7c"
      },
      "execution_count": 34,
      "outputs": [
        {
          "output_type": "execute_result",
          "data": {
            "text/plain": [
              "0.5489078822412156"
            ]
          },
          "metadata": {},
          "execution_count": 34
        }
      ]
    }
  ]
}