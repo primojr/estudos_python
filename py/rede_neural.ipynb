{
  "nbformat": 4,
  "nbformat_minor": 0,
  "metadata": {
    "colab": {
      "name": "rede_neural.ipynb",
      "provenance": [],
      "authorship_tag": "ABX9TyPbk5gESnYGAsNopHLfVPfl",
      "include_colab_link": true
    },
    "kernelspec": {
      "name": "python3",
      "display_name": "Python 3"
    },
    "language_info": {
      "name": "python"
    }
  },
  "cells": [
    {
      "cell_type": "markdown",
      "metadata": {
        "id": "view-in-github",
        "colab_type": "text"
      },
      "source": [
        "<a href=\"https://colab.research.google.com/github/primojr/estudos_python/blob/master/py/rede_neural.ipynb\" target=\"_parent\"><img src=\"https://colab.research.google.com/assets/colab-badge.svg\" alt=\"Open In Colab\"/></a>"
      ]
    },
    {
      "cell_type": "markdown",
      "source": [
        "\n",
        "# Objetivo:\n",
        "\n",
        "## Treinar o modelo usando `MLPClassifier` e comprar o resultado do `randon_forest`\n"
      ],
      "metadata": {
        "id": "KfkdrsTdCYgZ"
      }
    },
    {
      "cell_type": "markdown",
      "source": [
        "## 1.Importar bibliotecas "
      ],
      "metadata": {
        "id": "2GGZZ9lfODmo"
      }
    },
    {
      "cell_type": "code",
      "execution_count": 1,
      "metadata": {
        "id": "SulEQ-C2JFOI"
      },
      "outputs": [],
      "source": [
        "from sklearn import datasets \n",
        "from sklearn.neural_network import  MLPClassifier \n",
        "\n",
        "# # Bibliotecas Auxiliares\n",
        "import numpy as np\n",
        "import pandas as pd\n",
        "import matplotlib.pyplot as plt\n",
        "\n",
        "np.random.seed(13)\n",
        "\n",
        "df = pd.read_csv(\"dfFAmostra.csv\", delimiter=\";\")\n",
        "\n",
        "# # TensorFlow e tf.keras\n",
        "# import tensorflow as tf\n",
        "# from tensorflow import keras\n",
        "\n",
        "\n",
        "# print(tf.__version__)"
      ]
    },
    {
      "cell_type": "code",
      "source": [
        "df.head(2)"
      ],
      "metadata": {
        "colab": {
          "base_uri": "https://localhost:8080/",
          "height": 226
        },
        "id": "-FZy0UNak5Gv",
        "outputId": "963f9013-b6b8-4380-b3d5-10cf4eb031c4"
      },
      "execution_count": 2,
      "outputs": [
        {
          "output_type": "execute_result",
          "data": {
            "text/plain": [
              "                                     id   system  sexo_f class_cep  \\\n",
              "0  e281e652-c369-4a8b-9a36-6e085cfcfca5  android       1  B.Neutro   \n",
              "1  f987742c-4e4f-418b-a95d-2fedba305f4f  android       0  B.Neutro   \n",
              "\n",
              "   t.idade_ate30  t.br  t.inpp  t.offus  t.b2w  t.lasa  t.ampl_rec  \\\n",
              "0              0     0       0        0      0       1   -5.225747   \n",
              "1              0     0       0        1      0       0   -6.654153   \n",
              "\n",
              "   t.ampl_app  t.frente_offus_inapp  t.band_outras       classe1  \n",
              "0   -1.120118                     0              0  SemCartaoApp  \n",
              "1    2.538974                     0              0  ComCartaoApp  "
            ],
            "text/html": [
              "\n",
              "  <div id=\"df-f56641f2-23c5-48fc-9082-9eb8771759e2\">\n",
              "    <div class=\"colab-df-container\">\n",
              "      <div>\n",
              "<style scoped>\n",
              "    .dataframe tbody tr th:only-of-type {\n",
              "        vertical-align: middle;\n",
              "    }\n",
              "\n",
              "    .dataframe tbody tr th {\n",
              "        vertical-align: top;\n",
              "    }\n",
              "\n",
              "    .dataframe thead th {\n",
              "        text-align: right;\n",
              "    }\n",
              "</style>\n",
              "<table border=\"1\" class=\"dataframe\">\n",
              "  <thead>\n",
              "    <tr style=\"text-align: right;\">\n",
              "      <th></th>\n",
              "      <th>id</th>\n",
              "      <th>system</th>\n",
              "      <th>sexo_f</th>\n",
              "      <th>class_cep</th>\n",
              "      <th>t.idade_ate30</th>\n",
              "      <th>t.br</th>\n",
              "      <th>t.inpp</th>\n",
              "      <th>t.offus</th>\n",
              "      <th>t.b2w</th>\n",
              "      <th>t.lasa</th>\n",
              "      <th>t.ampl_rec</th>\n",
              "      <th>t.ampl_app</th>\n",
              "      <th>t.frente_offus_inapp</th>\n",
              "      <th>t.band_outras</th>\n",
              "      <th>classe1</th>\n",
              "    </tr>\n",
              "  </thead>\n",
              "  <tbody>\n",
              "    <tr>\n",
              "      <th>0</th>\n",
              "      <td>e281e652-c369-4a8b-9a36-6e085cfcfca5</td>\n",
              "      <td>android</td>\n",
              "      <td>1</td>\n",
              "      <td>B.Neutro</td>\n",
              "      <td>0</td>\n",
              "      <td>0</td>\n",
              "      <td>0</td>\n",
              "      <td>0</td>\n",
              "      <td>0</td>\n",
              "      <td>1</td>\n",
              "      <td>-5.225747</td>\n",
              "      <td>-1.120118</td>\n",
              "      <td>0</td>\n",
              "      <td>0</td>\n",
              "      <td>SemCartaoApp</td>\n",
              "    </tr>\n",
              "    <tr>\n",
              "      <th>1</th>\n",
              "      <td>f987742c-4e4f-418b-a95d-2fedba305f4f</td>\n",
              "      <td>android</td>\n",
              "      <td>0</td>\n",
              "      <td>B.Neutro</td>\n",
              "      <td>0</td>\n",
              "      <td>0</td>\n",
              "      <td>0</td>\n",
              "      <td>1</td>\n",
              "      <td>0</td>\n",
              "      <td>0</td>\n",
              "      <td>-6.654153</td>\n",
              "      <td>2.538974</td>\n",
              "      <td>0</td>\n",
              "      <td>0</td>\n",
              "      <td>ComCartaoApp</td>\n",
              "    </tr>\n",
              "  </tbody>\n",
              "</table>\n",
              "</div>\n",
              "      <button class=\"colab-df-convert\" onclick=\"convertToInteractive('df-f56641f2-23c5-48fc-9082-9eb8771759e2')\"\n",
              "              title=\"Convert this dataframe to an interactive table.\"\n",
              "              style=\"display:none;\">\n",
              "        \n",
              "  <svg xmlns=\"http://www.w3.org/2000/svg\" height=\"24px\"viewBox=\"0 0 24 24\"\n",
              "       width=\"24px\">\n",
              "    <path d=\"M0 0h24v24H0V0z\" fill=\"none\"/>\n",
              "    <path d=\"M18.56 5.44l.94 2.06.94-2.06 2.06-.94-2.06-.94-.94-2.06-.94 2.06-2.06.94zm-11 1L8.5 8.5l.94-2.06 2.06-.94-2.06-.94L8.5 2.5l-.94 2.06-2.06.94zm10 10l.94 2.06.94-2.06 2.06-.94-2.06-.94-.94-2.06-.94 2.06-2.06.94z\"/><path d=\"M17.41 7.96l-1.37-1.37c-.4-.4-.92-.59-1.43-.59-.52 0-1.04.2-1.43.59L10.3 9.45l-7.72 7.72c-.78.78-.78 2.05 0 2.83L4 21.41c.39.39.9.59 1.41.59.51 0 1.02-.2 1.41-.59l7.78-7.78 2.81-2.81c.8-.78.8-2.07 0-2.86zM5.41 20L4 18.59l7.72-7.72 1.47 1.35L5.41 20z\"/>\n",
              "  </svg>\n",
              "      </button>\n",
              "      \n",
              "  <style>\n",
              "    .colab-df-container {\n",
              "      display:flex;\n",
              "      flex-wrap:wrap;\n",
              "      gap: 12px;\n",
              "    }\n",
              "\n",
              "    .colab-df-convert {\n",
              "      background-color: #E8F0FE;\n",
              "      border: none;\n",
              "      border-radius: 50%;\n",
              "      cursor: pointer;\n",
              "      display: none;\n",
              "      fill: #1967D2;\n",
              "      height: 32px;\n",
              "      padding: 0 0 0 0;\n",
              "      width: 32px;\n",
              "    }\n",
              "\n",
              "    .colab-df-convert:hover {\n",
              "      background-color: #E2EBFA;\n",
              "      box-shadow: 0px 1px 2px rgba(60, 64, 67, 0.3), 0px 1px 3px 1px rgba(60, 64, 67, 0.15);\n",
              "      fill: #174EA6;\n",
              "    }\n",
              "\n",
              "    [theme=dark] .colab-df-convert {\n",
              "      background-color: #3B4455;\n",
              "      fill: #D2E3FC;\n",
              "    }\n",
              "\n",
              "    [theme=dark] .colab-df-convert:hover {\n",
              "      background-color: #434B5C;\n",
              "      box-shadow: 0px 1px 3px 1px rgba(0, 0, 0, 0.15);\n",
              "      filter: drop-shadow(0px 1px 2px rgba(0, 0, 0, 0.3));\n",
              "      fill: #FFFFFF;\n",
              "    }\n",
              "  </style>\n",
              "\n",
              "      <script>\n",
              "        const buttonEl =\n",
              "          document.querySelector('#df-f56641f2-23c5-48fc-9082-9eb8771759e2 button.colab-df-convert');\n",
              "        buttonEl.style.display =\n",
              "          google.colab.kernel.accessAllowed ? 'block' : 'none';\n",
              "\n",
              "        async function convertToInteractive(key) {\n",
              "          const element = document.querySelector('#df-f56641f2-23c5-48fc-9082-9eb8771759e2');\n",
              "          const dataTable =\n",
              "            await google.colab.kernel.invokeFunction('convertToInteractive',\n",
              "                                                     [key], {});\n",
              "          if (!dataTable) return;\n",
              "\n",
              "          const docLinkHtml = 'Like what you see? Visit the ' +\n",
              "            '<a target=\"_blank\" href=https://colab.research.google.com/notebooks/data_table.ipynb>data table notebook</a>'\n",
              "            + ' to learn more about interactive tables.';\n",
              "          element.innerHTML = '';\n",
              "          dataTable['output_type'] = 'display_data';\n",
              "          await google.colab.output.renderOutput(dataTable, element);\n",
              "          const docLink = document.createElement('div');\n",
              "          docLink.innerHTML = docLinkHtml;\n",
              "          element.appendChild(docLink);\n",
              "        }\n",
              "      </script>\n",
              "    </div>\n",
              "  </div>\n",
              "  "
            ]
          },
          "metadata": {},
          "execution_count": 2
        }
      ]
    },
    {
      "cell_type": "markdown",
      "source": [
        "# 2. Ajustes na base"
      ],
      "metadata": {
        "id": "mB3V8VQwye2e"
      }
    },
    {
      "cell_type": "code",
      "source": [
        "# Sys\n",
        "df['system'] = df['system'].replace('android','1')\n",
        "df['system'] = df['system'].replace('ios','0')\n",
        "df['system'] = df['system'].astype(float)\n",
        "\n",
        "# # Classe cep\n",
        "df['class_cep'].value_counts()\n",
        "df['class_cep'] = df['class_cep'].replace('A.Ruim','0')\n",
        "df['class_cep'] = df['class_cep'].replace('B.Neutro','1')\n",
        "df['class_cep'] = df['class_cep'].replace('C.Medio','2')\n",
        "df['class_cep'] = df['class_cep'].replace('D.Bom','3')\n",
        "df['class_cep'] = df['class_cep'].replace('E.MuitoBom','4')\n",
        "df['class_cep'] = df['class_cep'].astype(float)\n",
        "\n",
        "\n",
        "## Binario resposta\n",
        "df.loc[df['classe1'] == 'ComCartaoApp', 'Class'] = 1\n",
        "df.loc[df['classe1'] != 'ComCartaoApp', 'Class'] = 0\n",
        "df = df.drop('classe1',axis=1)\n",
        "df.head()\n",
        "\n",
        "\n",
        "# Remover na()\n",
        "df = df.dropna()\n",
        "df = df.reset_index()\n",
        "\n",
        "#I Tipos dos dados\n",
        "df.dtypes"
      ],
      "metadata": {
        "colab": {
          "base_uri": "https://localhost:8080/"
        },
        "id": "M8Cj_YdbkDiw",
        "outputId": "3d3db893-fc71-4ff0-db80-d88d58f5503a"
      },
      "execution_count": 3,
      "outputs": [
        {
          "output_type": "execute_result",
          "data": {
            "text/plain": [
              "index                     int64\n",
              "id                       object\n",
              "system                  float64\n",
              "sexo_f                    int64\n",
              "class_cep               float64\n",
              "t.idade_ate30             int64\n",
              "t.br                      int64\n",
              "t.inpp                    int64\n",
              "t.offus                   int64\n",
              "t.b2w                     int64\n",
              "t.lasa                    int64\n",
              "t.ampl_rec              float64\n",
              "t.ampl_app              float64\n",
              "t.frente_offus_inapp      int64\n",
              "t.band_outras             int64\n",
              "Class                   float64\n",
              "dtype: object"
            ]
          },
          "metadata": {},
          "execution_count": 3
        }
      ]
    },
    {
      "cell_type": "markdown",
      "source": [
        "# 3. Separar amostra e treino"
      ],
      "metadata": {
        "id": "aX-b9ZYMORQA"
      }
    },
    {
      "cell_type": "code",
      "source": [
        "#df = df.loc[:,df.columns[1:]]\n",
        "X = df.loc[:, df.columns[2:14]]\n",
        "y = df.loc[:,['Class']]\n",
        "\n",
        "n_aleatorio = np.arange(df.shape[0])\n",
        "np.random.shuffle(n_aleatorio)\n",
        "\n",
        "X_train = X.loc[n_aleatorio[:3000],:]\n",
        "X_test  = X.loc[n_aleatorio[3000:],:]\n",
        "\n",
        "y_train = y.loc[n_aleatorio[:3000],:]\n",
        "y_test  = y.loc[n_aleatorio[3000:],:]\n"
      ],
      "metadata": {
        "id": "IjgfYCGVOQlx"
      },
      "execution_count": 4,
      "outputs": []
    },
    {
      "cell_type": "markdown",
      "source": [
        "# 4. Treino do modelo\n",
        "\n",
        "\n"
      ],
      "metadata": {
        "id": "O8pyMWzIxtct"
      }
    },
    {
      "cell_type": "markdown",
      "source": [
        "## 4.2 MPLClassifier\n",
        "\n",
        "- Paramentros:\n",
        "  -hidden_layer_sizes =  \n",
        "  - activation = Função de ativação  \n",
        "  - max_inter = Maximo de interação  \n",
        "  - learning_rate_init =  \n",
        "  "
      ],
      "metadata": {
        "id": "YNbUfnasWSi_"
      }
    },
    {
      "cell_type": "code",
      "source": [
        "from pandas.core.common import random_state\n",
        "clf = MLPClassifier(solver = 'adam',\n",
        "                    hidden_layer_sizes=(2,) ,\n",
        "                    learning_rate_init=0.00001, \n",
        "                    activation='logistic',\n",
        "                    max_iter = 1500,\n",
        "                    random_state = 1\n",
        "                    )\n",
        "\n",
        "clf.fit(X_train, y_train)\n",
        "\n",
        "y_pred = clf.predict_proba(X_test)\n",
        "y_pred"
      ],
      "metadata": {
        "colab": {
          "base_uri": "https://localhost:8080/"
        },
        "id": "z8eBh9eLR-n6",
        "outputId": "410becd6-5dac-4150-d349-100515f802fc"
      },
      "execution_count": 5,
      "outputs": [
        {
          "output_type": "stream",
          "name": "stderr",
          "text": [
            "/usr/local/lib/python3.7/dist-packages/sklearn/neural_network/_multilayer_perceptron.py:1109: DataConversionWarning: A column-vector y was passed when a 1d array was expected. Please change the shape of y to (n_samples, ), for example using ravel().\n",
            "  y = column_or_1d(y, warn=True)\n"
          ]
        },
        {
          "output_type": "execute_result",
          "data": {
            "text/plain": [
              "array([[0.77309258, 0.22690742],\n",
              "       [0.68895414, 0.31104586],\n",
              "       [0.68454003, 0.31545997],\n",
              "       ...,\n",
              "       [0.73594836, 0.26405164],\n",
              "       [0.63393082, 0.36606918],\n",
              "       [0.71925994, 0.28074006]])"
            ]
          },
          "metadata": {},
          "execution_count": 5
        }
      ]
    },
    {
      "cell_type": "markdown",
      "source": [
        "### 4.2.1 Validar ajuste"
      ],
      "metadata": {
        "id": "rr1YBwqPWsWm"
      }
    },
    {
      "cell_type": "code",
      "source": [
        "# Categorizar a Classe de previsão\n",
        "y_linha = pd.DataFrame(y_pred)\n",
        "y_linha.loc[y_linha[1] >= .5, 'Class'] = 1\n",
        "y_linha.loc[y_linha[1] <  .5, 'Class'] = 0 \n",
        "\n",
        "from sklearn.metrics import accuracy_score\n",
        "accuracy_score(y_test, y_linha['Class'])"
      ],
      "metadata": {
        "id": "oX-Q--NdWoRu",
        "outputId": "d3730c36-d23f-4957-9b6f-78f425e667df",
        "colab": {
          "base_uri": "https://localhost:8080/",
          "height": 433
        }
      },
      "execution_count": 18,
      "outputs": [
        {
          "output_type": "error",
          "ename": "KeyError",
          "evalue": "ignored",
          "traceback": [
            "\u001b[0;31m---------------------------------------------------------------------------\u001b[0m",
            "\u001b[0;31mValueError\u001b[0m                                Traceback (most recent call last)",
            "\u001b[0;32m/usr/local/lib/python3.7/dist-packages/pandas/core/indexes/range.py\u001b[0m in \u001b[0;36mget_loc\u001b[0;34m(self, key, method, tolerance)\u001b[0m\n\u001b[1;32m    384\u001b[0m                 \u001b[0;32mtry\u001b[0m\u001b[0;34m:\u001b[0m\u001b[0;34m\u001b[0m\u001b[0;34m\u001b[0m\u001b[0m\n\u001b[0;32m--> 385\u001b[0;31m                     \u001b[0;32mreturn\u001b[0m \u001b[0mself\u001b[0m\u001b[0;34m.\u001b[0m\u001b[0m_range\u001b[0m\u001b[0;34m.\u001b[0m\u001b[0mindex\u001b[0m\u001b[0;34m(\u001b[0m\u001b[0mnew_key\u001b[0m\u001b[0;34m)\u001b[0m\u001b[0;34m\u001b[0m\u001b[0;34m\u001b[0m\u001b[0m\n\u001b[0m\u001b[1;32m    386\u001b[0m                 \u001b[0;32mexcept\u001b[0m \u001b[0mValueError\u001b[0m \u001b[0;32mas\u001b[0m \u001b[0merr\u001b[0m\u001b[0;34m:\u001b[0m\u001b[0;34m\u001b[0m\u001b[0;34m\u001b[0m\u001b[0m\n",
            "\u001b[0;31mValueError\u001b[0m: 1 is not in range",
            "\nThe above exception was the direct cause of the following exception:\n",
            "\u001b[0;31mKeyError\u001b[0m                                  Traceback (most recent call last)",
            "\u001b[0;32m<ipython-input-18-085f8c3df6b6>\u001b[0m in \u001b[0;36m<module>\u001b[0;34m\u001b[0m\n\u001b[1;32m      1\u001b[0m \u001b[0;31m# Categorizar a Classe de previsão\u001b[0m\u001b[0;34m\u001b[0m\u001b[0;34m\u001b[0m\u001b[0;34m\u001b[0m\u001b[0m\n\u001b[1;32m      2\u001b[0m \u001b[0my_linha\u001b[0m \u001b[0;34m=\u001b[0m \u001b[0mpd\u001b[0m\u001b[0;34m.\u001b[0m\u001b[0mDataFrame\u001b[0m\u001b[0;34m(\u001b[0m\u001b[0my_pred\u001b[0m\u001b[0;34m)\u001b[0m\u001b[0;34m\u001b[0m\u001b[0;34m\u001b[0m\u001b[0m\n\u001b[0;32m----> 3\u001b[0;31m \u001b[0my_linha\u001b[0m\u001b[0;34m.\u001b[0m\u001b[0mloc\u001b[0m\u001b[0;34m[\u001b[0m\u001b[0my_linha\u001b[0m\u001b[0;34m[\u001b[0m\u001b[0;36m1\u001b[0m\u001b[0;34m]\u001b[0m \u001b[0;34m>=\u001b[0m \u001b[0;36m.5\u001b[0m\u001b[0;34m,\u001b[0m \u001b[0;34m'Class'\u001b[0m\u001b[0;34m]\u001b[0m \u001b[0;34m=\u001b[0m \u001b[0;36m1\u001b[0m\u001b[0;34m\u001b[0m\u001b[0;34m\u001b[0m\u001b[0m\n\u001b[0m\u001b[1;32m      4\u001b[0m \u001b[0my_linha\u001b[0m\u001b[0;34m.\u001b[0m\u001b[0mloc\u001b[0m\u001b[0;34m[\u001b[0m\u001b[0my_linha\u001b[0m\u001b[0;34m[\u001b[0m\u001b[0;36m1\u001b[0m\u001b[0;34m]\u001b[0m \u001b[0;34m<\u001b[0m  \u001b[0;36m.5\u001b[0m\u001b[0;34m,\u001b[0m \u001b[0;34m'Class'\u001b[0m\u001b[0;34m]\u001b[0m \u001b[0;34m=\u001b[0m \u001b[0;36m0\u001b[0m\u001b[0;34m\u001b[0m\u001b[0;34m\u001b[0m\u001b[0m\n\u001b[1;32m      5\u001b[0m \u001b[0;34m\u001b[0m\u001b[0m\n",
            "\u001b[0;32m/usr/local/lib/python3.7/dist-packages/pandas/core/frame.py\u001b[0m in \u001b[0;36m__getitem__\u001b[0;34m(self, key)\u001b[0m\n\u001b[1;32m   3456\u001b[0m             \u001b[0;32mif\u001b[0m \u001b[0mself\u001b[0m\u001b[0;34m.\u001b[0m\u001b[0mcolumns\u001b[0m\u001b[0;34m.\u001b[0m\u001b[0mnlevels\u001b[0m \u001b[0;34m>\u001b[0m \u001b[0;36m1\u001b[0m\u001b[0;34m:\u001b[0m\u001b[0;34m\u001b[0m\u001b[0;34m\u001b[0m\u001b[0m\n\u001b[1;32m   3457\u001b[0m                 \u001b[0;32mreturn\u001b[0m \u001b[0mself\u001b[0m\u001b[0;34m.\u001b[0m\u001b[0m_getitem_multilevel\u001b[0m\u001b[0;34m(\u001b[0m\u001b[0mkey\u001b[0m\u001b[0;34m)\u001b[0m\u001b[0;34m\u001b[0m\u001b[0;34m\u001b[0m\u001b[0m\n\u001b[0;32m-> 3458\u001b[0;31m             \u001b[0mindexer\u001b[0m \u001b[0;34m=\u001b[0m \u001b[0mself\u001b[0m\u001b[0;34m.\u001b[0m\u001b[0mcolumns\u001b[0m\u001b[0;34m.\u001b[0m\u001b[0mget_loc\u001b[0m\u001b[0;34m(\u001b[0m\u001b[0mkey\u001b[0m\u001b[0;34m)\u001b[0m\u001b[0;34m\u001b[0m\u001b[0;34m\u001b[0m\u001b[0m\n\u001b[0m\u001b[1;32m   3459\u001b[0m             \u001b[0;32mif\u001b[0m \u001b[0mis_integer\u001b[0m\u001b[0;34m(\u001b[0m\u001b[0mindexer\u001b[0m\u001b[0;34m)\u001b[0m\u001b[0;34m:\u001b[0m\u001b[0;34m\u001b[0m\u001b[0;34m\u001b[0m\u001b[0m\n\u001b[1;32m   3460\u001b[0m                 \u001b[0mindexer\u001b[0m \u001b[0;34m=\u001b[0m \u001b[0;34m[\u001b[0m\u001b[0mindexer\u001b[0m\u001b[0;34m]\u001b[0m\u001b[0;34m\u001b[0m\u001b[0;34m\u001b[0m\u001b[0m\n",
            "\u001b[0;32m/usr/local/lib/python3.7/dist-packages/pandas/core/indexes/range.py\u001b[0m in \u001b[0;36mget_loc\u001b[0;34m(self, key, method, tolerance)\u001b[0m\n\u001b[1;32m    385\u001b[0m                     \u001b[0;32mreturn\u001b[0m \u001b[0mself\u001b[0m\u001b[0;34m.\u001b[0m\u001b[0m_range\u001b[0m\u001b[0;34m.\u001b[0m\u001b[0mindex\u001b[0m\u001b[0;34m(\u001b[0m\u001b[0mnew_key\u001b[0m\u001b[0;34m)\u001b[0m\u001b[0;34m\u001b[0m\u001b[0;34m\u001b[0m\u001b[0m\n\u001b[1;32m    386\u001b[0m                 \u001b[0;32mexcept\u001b[0m \u001b[0mValueError\u001b[0m \u001b[0;32mas\u001b[0m \u001b[0merr\u001b[0m\u001b[0;34m:\u001b[0m\u001b[0;34m\u001b[0m\u001b[0;34m\u001b[0m\u001b[0m\n\u001b[0;32m--> 387\u001b[0;31m                     \u001b[0;32mraise\u001b[0m \u001b[0mKeyError\u001b[0m\u001b[0;34m(\u001b[0m\u001b[0mkey\u001b[0m\u001b[0;34m)\u001b[0m \u001b[0;32mfrom\u001b[0m \u001b[0merr\u001b[0m\u001b[0;34m\u001b[0m\u001b[0;34m\u001b[0m\u001b[0m\n\u001b[0m\u001b[1;32m    388\u001b[0m             \u001b[0;32mraise\u001b[0m \u001b[0mKeyError\u001b[0m\u001b[0;34m(\u001b[0m\u001b[0mkey\u001b[0m\u001b[0;34m)\u001b[0m\u001b[0;34m\u001b[0m\u001b[0;34m\u001b[0m\u001b[0m\n\u001b[1;32m    389\u001b[0m         \u001b[0;32mreturn\u001b[0m \u001b[0msuper\u001b[0m\u001b[0;34m(\u001b[0m\u001b[0;34m)\u001b[0m\u001b[0;34m.\u001b[0m\u001b[0mget_loc\u001b[0m\u001b[0;34m(\u001b[0m\u001b[0mkey\u001b[0m\u001b[0;34m,\u001b[0m \u001b[0mmethod\u001b[0m\u001b[0;34m=\u001b[0m\u001b[0mmethod\u001b[0m\u001b[0;34m,\u001b[0m \u001b[0mtolerance\u001b[0m\u001b[0;34m=\u001b[0m\u001b[0mtolerance\u001b[0m\u001b[0;34m)\u001b[0m\u001b[0;34m\u001b[0m\u001b[0;34m\u001b[0m\u001b[0m\n",
            "\u001b[0;31mKeyError\u001b[0m: 1"
          ]
        }
      ]
    },
    {
      "cell_type": "markdown",
      "source": [
        "## 4.2 Treino usando keras"
      ],
      "metadata": {
        "id": "0MHjRL7_PdQM"
      }
    },
    {
      "cell_type": "code",
      "source": [
        "import tensorflow as tf\n",
        "from tensorflow import keras\n",
        "tf.random.set_seed(42)"
      ],
      "metadata": {
        "id": "1SNoekXcPctU"
      },
      "execution_count": 7,
      "outputs": []
    },
    {
      "cell_type": "code",
      "source": [
        "model = tf.keras.Sequential([\n",
        "    tf.keras.layers.Dense(128, activation='relu'),\n",
        "    tf.keras.layers.Dense(256, activation='relu'),\n",
        "    tf.keras.layers.Dense(256, activation='relu'),\n",
        "    tf.keras.layers.Dense(1, activation='sigmoid')\n",
        "])\n",
        "\n",
        "model.compile(\n",
        "    loss = tf.keras.losses.binary_crossentropy,\n",
        "    optimizer = tf.keras.optimizers.Adam(lr=0.001),\n",
        "    metrics=[\n",
        "        tf.keras.metrics.BinaryAccuracy(name='accuracy'),\n",
        "        tf.keras.metrics.Precision(name='precision'),\n",
        "        tf.keras.metrics.Recall(name='recall')\n",
        "    ]\n",
        ")\n",
        "\n",
        "history = model.fit(X_train, y_train, epochs=100)"
      ],
      "metadata": {
        "id": "1v8sF0yePw82",
        "outputId": "d4ab5165-fcf1-4551-d828-6b45a39c215c",
        "colab": {
          "base_uri": "https://localhost:8080/"
        }
      },
      "execution_count": 50,
      "outputs": [
        {
          "output_type": "stream",
          "name": "stdout",
          "text": [
            "Epoch 1/100\n"
          ]
        },
        {
          "output_type": "stream",
          "name": "stderr",
          "text": [
            "/usr/local/lib/python3.7/dist-packages/keras/optimizer_v2/adam.py:105: UserWarning: The `lr` argument is deprecated, use `learning_rate` instead.\n",
            "  super(Adam, self).__init__(name, **kwargs)\n"
          ]
        },
        {
          "output_type": "stream",
          "name": "stdout",
          "text": [
            "94/94 [==============================] - 1s 4ms/step - loss: 0.5100 - accuracy: 0.7407 - precision: 0.6988 - recall: 0.7394\n",
            "Epoch 2/100\n",
            "94/94 [==============================] - 0s 5ms/step - loss: 0.4783 - accuracy: 0.7653 - precision: 0.7297 - recall: 0.7558\n",
            "Epoch 3/100\n",
            "94/94 [==============================] - 0s 4ms/step - loss: 0.4664 - accuracy: 0.7707 - precision: 0.7361 - recall: 0.7602\n",
            "Epoch 4/100\n",
            "94/94 [==============================] - 0s 4ms/step - loss: 0.4617 - accuracy: 0.7753 - precision: 0.7440 - recall: 0.7595\n",
            "Epoch 5/100\n",
            "94/94 [==============================] - 0s 4ms/step - loss: 0.4498 - accuracy: 0.7790 - precision: 0.7507 - recall: 0.7580\n",
            "Epoch 6/100\n",
            "94/94 [==============================] - 0s 5ms/step - loss: 0.4519 - accuracy: 0.7783 - precision: 0.7460 - recall: 0.7655\n",
            "Epoch 7/100\n",
            "94/94 [==============================] - 0s 4ms/step - loss: 0.4393 - accuracy: 0.7893 - precision: 0.7597 - recall: 0.7744\n",
            "Epoch 8/100\n",
            "94/94 [==============================] - 0s 5ms/step - loss: 0.4354 - accuracy: 0.7923 - precision: 0.7643 - recall: 0.7751\n",
            "Epoch 9/100\n",
            "94/94 [==============================] - 0s 4ms/step - loss: 0.4266 - accuracy: 0.7890 - precision: 0.7630 - recall: 0.7669\n",
            "Epoch 10/100\n",
            "94/94 [==============================] - 0s 5ms/step - loss: 0.4246 - accuracy: 0.7927 - precision: 0.7622 - recall: 0.7803\n",
            "Epoch 11/100\n",
            "94/94 [==============================] - 0s 4ms/step - loss: 0.4180 - accuracy: 0.7960 - precision: 0.7674 - recall: 0.7811\n",
            "Epoch 12/100\n",
            "94/94 [==============================] - 0s 4ms/step - loss: 0.4194 - accuracy: 0.7953 - precision: 0.7624 - recall: 0.7885\n",
            "Epoch 13/100\n",
            "94/94 [==============================] - 0s 4ms/step - loss: 0.4107 - accuracy: 0.8017 - precision: 0.7750 - recall: 0.7848\n",
            "Epoch 14/100\n",
            "94/94 [==============================] - 0s 4ms/step - loss: 0.4086 - accuracy: 0.8087 - precision: 0.7833 - recall: 0.7915\n",
            "Epoch 15/100\n",
            "94/94 [==============================] - 0s 4ms/step - loss: 0.4033 - accuracy: 0.8037 - precision: 0.7813 - recall: 0.7796\n",
            "Epoch 16/100\n",
            "94/94 [==============================] - 0s 4ms/step - loss: 0.3984 - accuracy: 0.8120 - precision: 0.7788 - recall: 0.8101\n",
            "Epoch 17/100\n",
            "94/94 [==============================] - 0s 4ms/step - loss: 0.3920 - accuracy: 0.8100 - precision: 0.7819 - recall: 0.7982\n",
            "Epoch 18/100\n",
            "94/94 [==============================] - 0s 3ms/step - loss: 0.3880 - accuracy: 0.8180 - precision: 0.7894 - recall: 0.8094\n",
            "Epoch 19/100\n",
            "94/94 [==============================] - 0s 3ms/step - loss: 0.3808 - accuracy: 0.8203 - precision: 0.7851 - recall: 0.8243\n",
            "Epoch 20/100\n",
            "94/94 [==============================] - 0s 3ms/step - loss: 0.3772 - accuracy: 0.8223 - precision: 0.7948 - recall: 0.8131\n",
            "Epoch 21/100\n",
            "94/94 [==============================] - 0s 4ms/step - loss: 0.3768 - accuracy: 0.8253 - precision: 0.7961 - recall: 0.8198\n",
            "Epoch 22/100\n",
            "94/94 [==============================] - 0s 4ms/step - loss: 0.3702 - accuracy: 0.8187 - precision: 0.7957 - recall: 0.8004\n",
            "Epoch 23/100\n",
            "94/94 [==============================] - 0s 4ms/step - loss: 0.3672 - accuracy: 0.8330 - precision: 0.8046 - recall: 0.8280\n",
            "Epoch 24/100\n",
            "94/94 [==============================] - 0s 4ms/step - loss: 0.3603 - accuracy: 0.8317 - precision: 0.8045 - recall: 0.8243\n",
            "Epoch 25/100\n",
            "94/94 [==============================] - 0s 4ms/step - loss: 0.3520 - accuracy: 0.8430 - precision: 0.8211 - recall: 0.8302\n",
            "Epoch 26/100\n",
            "94/94 [==============================] - 0s 4ms/step - loss: 0.3457 - accuracy: 0.8413 - precision: 0.8157 - recall: 0.8340\n",
            "Epoch 27/100\n",
            "94/94 [==============================] - 0s 4ms/step - loss: 0.3398 - accuracy: 0.8400 - precision: 0.8134 - recall: 0.8340\n",
            "Epoch 28/100\n",
            "94/94 [==============================] - 0s 4ms/step - loss: 0.3293 - accuracy: 0.8447 - precision: 0.8270 - recall: 0.8258\n",
            "Epoch 29/100\n",
            "94/94 [==============================] - 0s 4ms/step - loss: 0.3317 - accuracy: 0.8383 - precision: 0.8182 - recall: 0.8213\n",
            "Epoch 30/100\n",
            "94/94 [==============================] - 0s 4ms/step - loss: 0.3215 - accuracy: 0.8483 - precision: 0.8274 - recall: 0.8354\n",
            "Epoch 31/100\n",
            "94/94 [==============================] - 0s 4ms/step - loss: 0.3168 - accuracy: 0.8533 - precision: 0.8317 - recall: 0.8429\n",
            "Epoch 32/100\n",
            "94/94 [==============================] - 0s 4ms/step - loss: 0.3082 - accuracy: 0.8650 - precision: 0.8469 - recall: 0.8526\n",
            "Epoch 33/100\n",
            "94/94 [==============================] - 0s 4ms/step - loss: 0.2995 - accuracy: 0.8603 - precision: 0.8458 - recall: 0.8414\n",
            "Epoch 34/100\n",
            "94/94 [==============================] - 0s 4ms/step - loss: 0.2955 - accuracy: 0.8597 - precision: 0.8405 - recall: 0.8474\n",
            "Epoch 35/100\n",
            "94/94 [==============================] - 0s 4ms/step - loss: 0.2927 - accuracy: 0.8633 - precision: 0.8463 - recall: 0.8488\n",
            "Epoch 36/100\n",
            "94/94 [==============================] - 0s 4ms/step - loss: 0.2893 - accuracy: 0.8660 - precision: 0.8546 - recall: 0.8444\n",
            "Epoch 37/100\n",
            "94/94 [==============================] - 0s 4ms/step - loss: 0.2796 - accuracy: 0.8700 - precision: 0.8564 - recall: 0.8526\n",
            "Epoch 38/100\n",
            "94/94 [==============================] - 0s 4ms/step - loss: 0.2768 - accuracy: 0.8673 - precision: 0.8593 - recall: 0.8414\n",
            "Epoch 39/100\n",
            "94/94 [==============================] - 0s 4ms/step - loss: 0.2620 - accuracy: 0.8797 - precision: 0.8686 - recall: 0.8615\n",
            "Epoch 40/100\n",
            "94/94 [==============================] - 0s 5ms/step - loss: 0.2657 - accuracy: 0.8797 - precision: 0.8697 - recall: 0.8600\n",
            "Epoch 41/100\n",
            "94/94 [==============================] - 0s 5ms/step - loss: 0.2558 - accuracy: 0.8843 - precision: 0.8689 - recall: 0.8734\n",
            "Epoch 42/100\n",
            "94/94 [==============================] - 0s 5ms/step - loss: 0.2561 - accuracy: 0.8837 - precision: 0.8731 - recall: 0.8660\n",
            "Epoch 43/100\n",
            "94/94 [==============================] - 0s 4ms/step - loss: 0.2493 - accuracy: 0.8880 - precision: 0.8783 - recall: 0.8704\n",
            "Epoch 44/100\n",
            "94/94 [==============================] - 0s 4ms/step - loss: 0.2593 - accuracy: 0.8810 - precision: 0.8707 - recall: 0.8622\n",
            "Epoch 45/100\n",
            "94/94 [==============================] - 0s 5ms/step - loss: 0.2353 - accuracy: 0.8920 - precision: 0.8822 - recall: 0.8757\n",
            "Epoch 46/100\n",
            "94/94 [==============================] - 0s 4ms/step - loss: 0.2301 - accuracy: 0.8943 - precision: 0.8817 - recall: 0.8824\n",
            "Epoch 47/100\n",
            "94/94 [==============================] - 0s 4ms/step - loss: 0.2323 - accuracy: 0.8920 - precision: 0.8869 - recall: 0.8697\n",
            "Epoch 48/100\n",
            "94/94 [==============================] - 0s 4ms/step - loss: 0.2289 - accuracy: 0.8887 - precision: 0.8808 - recall: 0.8690\n",
            "Epoch 49/100\n",
            "94/94 [==============================] - 0s 4ms/step - loss: 0.2507 - accuracy: 0.8897 - precision: 0.8782 - recall: 0.8749\n",
            "Epoch 50/100\n",
            "94/94 [==============================] - 0s 4ms/step - loss: 0.2213 - accuracy: 0.8950 - precision: 0.8870 - recall: 0.8771\n",
            "Epoch 51/100\n",
            "94/94 [==============================] - 0s 4ms/step - loss: 0.2121 - accuracy: 0.8993 - precision: 0.8887 - recall: 0.8861\n",
            "Epoch 52/100\n",
            "94/94 [==============================] - 0s 4ms/step - loss: 0.2235 - accuracy: 0.8993 - precision: 0.8946 - recall: 0.8786\n",
            "Epoch 53/100\n",
            "94/94 [==============================] - 0s 4ms/step - loss: 0.2151 - accuracy: 0.8990 - precision: 0.8881 - recall: 0.8861\n",
            "Epoch 54/100\n",
            "94/94 [==============================] - 0s 5ms/step - loss: 0.2114 - accuracy: 0.9013 - precision: 0.8951 - recall: 0.8831\n",
            "Epoch 55/100\n",
            "94/94 [==============================] - 0s 4ms/step - loss: 0.2046 - accuracy: 0.9007 - precision: 0.8926 - recall: 0.8846\n",
            "Epoch 56/100\n",
            "94/94 [==============================] - 0s 4ms/step - loss: 0.1974 - accuracy: 0.9080 - precision: 0.9057 - recall: 0.8868\n",
            "Epoch 57/100\n",
            "94/94 [==============================] - 0s 4ms/step - loss: 0.1905 - accuracy: 0.9107 - precision: 0.9044 - recall: 0.8950\n",
            "Epoch 58/100\n",
            "94/94 [==============================] - 0s 4ms/step - loss: 0.1923 - accuracy: 0.9073 - precision: 0.9013 - recall: 0.8905\n",
            "Epoch 59/100\n",
            "94/94 [==============================] - 0s 4ms/step - loss: 0.1847 - accuracy: 0.9123 - precision: 0.9091 - recall: 0.8935\n",
            "Epoch 60/100\n",
            "94/94 [==============================] - 0s 4ms/step - loss: 0.1843 - accuracy: 0.9123 - precision: 0.9167 - recall: 0.8846\n",
            "Epoch 61/100\n",
            "94/94 [==============================] - 0s 4ms/step - loss: 0.1843 - accuracy: 0.9113 - precision: 0.9034 - recall: 0.8980\n",
            "Epoch 62/100\n",
            "94/94 [==============================] - 0s 4ms/step - loss: 0.1802 - accuracy: 0.9180 - precision: 0.9115 - recall: 0.9047\n",
            "Epoch 63/100\n",
            "94/94 [==============================] - 0s 4ms/step - loss: 0.1821 - accuracy: 0.9180 - precision: 0.9102 - recall: 0.9062\n",
            "Epoch 64/100\n",
            "94/94 [==============================] - 0s 3ms/step - loss: 0.1763 - accuracy: 0.9200 - precision: 0.9131 - recall: 0.9077\n",
            "Epoch 65/100\n",
            "94/94 [==============================] - 0s 4ms/step - loss: 0.1868 - accuracy: 0.9093 - precision: 0.8999 - recall: 0.8972\n",
            "Epoch 66/100\n",
            "94/94 [==============================] - 0s 4ms/step - loss: 0.1970 - accuracy: 0.9067 - precision: 0.9042 - recall: 0.8853\n",
            "Epoch 67/100\n",
            "94/94 [==============================] - 0s 4ms/step - loss: 0.1705 - accuracy: 0.9177 - precision: 0.9177 - recall: 0.8965\n",
            "Epoch 68/100\n",
            "94/94 [==============================] - 0s 4ms/step - loss: 0.1629 - accuracy: 0.9283 - precision: 0.9184 - recall: 0.9218\n",
            "Epoch 69/100\n",
            "94/94 [==============================] - 0s 3ms/step - loss: 0.1616 - accuracy: 0.9267 - precision: 0.9238 - recall: 0.9114\n",
            "Epoch 70/100\n",
            "94/94 [==============================] - 0s 3ms/step - loss: 0.1735 - accuracy: 0.9180 - precision: 0.9102 - recall: 0.9062\n",
            "Epoch 71/100\n",
            "94/94 [==============================] - 0s 4ms/step - loss: 0.1624 - accuracy: 0.9247 - precision: 0.9228 - recall: 0.9077\n",
            "Epoch 72/100\n",
            "94/94 [==============================] - 0s 3ms/step - loss: 0.1614 - accuracy: 0.9230 - precision: 0.9174 - recall: 0.9099\n",
            "Epoch 73/100\n",
            "94/94 [==============================] - 0s 3ms/step - loss: 0.1685 - accuracy: 0.9200 - precision: 0.9150 - recall: 0.9054\n",
            "Epoch 74/100\n",
            "94/94 [==============================] - 0s 3ms/step - loss: 0.1578 - accuracy: 0.9280 - precision: 0.9227 - recall: 0.9159\n",
            "Epoch 75/100\n",
            "94/94 [==============================] - 0s 4ms/step - loss: 0.1661 - accuracy: 0.9230 - precision: 0.9137 - recall: 0.9144\n",
            "Epoch 76/100\n",
            "94/94 [==============================] - 0s 3ms/step - loss: 0.1523 - accuracy: 0.9243 - precision: 0.9215 - recall: 0.9084\n",
            "Epoch 77/100\n",
            "94/94 [==============================] - 0s 4ms/step - loss: 0.1481 - accuracy: 0.9310 - precision: 0.9271 - recall: 0.9181\n",
            "Epoch 78/100\n",
            "94/94 [==============================] - 0s 4ms/step - loss: 0.1443 - accuracy: 0.9323 - precision: 0.9279 - recall: 0.9203\n",
            "Epoch 79/100\n",
            "94/94 [==============================] - 0s 4ms/step - loss: 0.1521 - accuracy: 0.9303 - precision: 0.9270 - recall: 0.9166\n",
            "Epoch 80/100\n",
            "94/94 [==============================] - 0s 4ms/step - loss: 0.1464 - accuracy: 0.9297 - precision: 0.9237 - recall: 0.9188\n",
            "Epoch 81/100\n",
            "94/94 [==============================] - 0s 4ms/step - loss: 0.1680 - accuracy: 0.9210 - precision: 0.9133 - recall: 0.9099\n",
            "Epoch 82/100\n",
            "94/94 [==============================] - 0s 4ms/step - loss: 0.1455 - accuracy: 0.9310 - precision: 0.9258 - recall: 0.9196\n",
            "Epoch 83/100\n",
            "94/94 [==============================] - 0s 4ms/step - loss: 0.1472 - accuracy: 0.9317 - precision: 0.9285 - recall: 0.9181\n",
            "Epoch 84/100\n",
            "94/94 [==============================] - 0s 4ms/step - loss: 0.1494 - accuracy: 0.9270 - precision: 0.9188 - recall: 0.9181\n",
            "Epoch 85/100\n",
            "94/94 [==============================] - 0s 4ms/step - loss: 0.1580 - accuracy: 0.9217 - precision: 0.9172 - recall: 0.9069\n",
            "Epoch 86/100\n",
            "94/94 [==============================] - 0s 5ms/step - loss: 0.1446 - accuracy: 0.9273 - precision: 0.9258 - recall: 0.9106\n",
            "Epoch 87/100\n",
            "94/94 [==============================] - 0s 4ms/step - loss: 0.1455 - accuracy: 0.9307 - precision: 0.9257 - recall: 0.9188\n",
            "Epoch 88/100\n",
            "94/94 [==============================] - 0s 3ms/step - loss: 0.1368 - accuracy: 0.9347 - precision: 0.9296 - recall: 0.9241\n",
            "Epoch 89/100\n",
            "94/94 [==============================] - 0s 3ms/step - loss: 0.1330 - accuracy: 0.9333 - precision: 0.9287 - recall: 0.9218\n",
            "Epoch 90/100\n",
            "94/94 [==============================] - 0s 4ms/step - loss: 0.1306 - accuracy: 0.9353 - precision: 0.9375 - recall: 0.9166\n",
            "Epoch 91/100\n",
            "94/94 [==============================] - 0s 5ms/step - loss: 0.1354 - accuracy: 0.9323 - precision: 0.9312 - recall: 0.9166\n",
            "Epoch 92/100\n",
            "94/94 [==============================] - 0s 4ms/step - loss: 0.1403 - accuracy: 0.9363 - precision: 0.9279 - recall: 0.9300\n",
            "Epoch 93/100\n",
            "94/94 [==============================] - 0s 4ms/step - loss: 0.1431 - accuracy: 0.9273 - precision: 0.9278 - recall: 0.9084\n",
            "Epoch 94/100\n",
            "94/94 [==============================] - 0s 5ms/step - loss: 0.1423 - accuracy: 0.9287 - precision: 0.9178 - recall: 0.9233\n",
            "Epoch 95/100\n",
            "94/94 [==============================] - 0s 4ms/step - loss: 0.1397 - accuracy: 0.9303 - precision: 0.9263 - recall: 0.9173\n",
            "Epoch 96/100\n",
            "94/94 [==============================] - 0s 5ms/step - loss: 0.1380 - accuracy: 0.9297 - precision: 0.9230 - recall: 0.9196\n",
            "Epoch 97/100\n",
            "94/94 [==============================] - 0s 4ms/step - loss: 0.1361 - accuracy: 0.9337 - precision: 0.9281 - recall: 0.9233\n",
            "Epoch 98/100\n",
            "94/94 [==============================] - 0s 4ms/step - loss: 0.1277 - accuracy: 0.9363 - precision: 0.9286 - recall: 0.9293\n",
            "Epoch 99/100\n",
            "94/94 [==============================] - 0s 3ms/step - loss: 0.1236 - accuracy: 0.9377 - precision: 0.9379 - recall: 0.9218\n",
            "Epoch 100/100\n",
            "94/94 [==============================] - 0s 4ms/step - loss: 0.1299 - accuracy: 0.9357 - precision: 0.9330 - recall: 0.9226\n"
          ]
        }
      ]
    },
    {
      "cell_type": "code",
      "source": [
        "import pandas as pd\n",
        "import matplotlib.pyplot as plt\n",
        "\n",
        "pd.DataFrame(history.history).plot(figsize = (8,5))\n",
        "plt.grid(True)\n",
        "plt.gca().set_ylim(0,1)\n",
        "plt.show()"
      ],
      "metadata": {
        "id": "CRTZ64iYTzMI",
        "outputId": "f3d0db08-f428-46a0-e0bb-8de6f3430af0",
        "colab": {
          "base_uri": "https://localhost:8080/",
          "height": 324
        }
      },
      "execution_count": 51,
      "outputs": [
        {
          "output_type": "display_data",
          "data": {
            "text/plain": [
              "<Figure size 576x360 with 1 Axes>"
            ],
            "image/png": "[encoded data removed]"
          },
          "metadata": {
            "needs_background": "light"
          }
        }
      ]
    },
    {
      "cell_type": "code",
      "source": [
        "y_pred = model.predict(X_test)"
      ],
      "metadata": {
        "id": "BOQKN8gQQhoF"
      },
      "execution_count": 52,
      "outputs": []
    },
    {
      "cell_type": "code",
      "source": [
        "# Categorizar a Classe de previsão\n",
        "y_linha = pd.DataFrame(y_pred)\n",
        "y_linha.loc[y_linha[0] >= .5, 'Class'] = 1\n",
        "y_linha.loc[y_linha[0] <  .5, 'Class'] = 0 \n",
        "\n",
        "#from sklearn.metrics import accuracy_score\n",
        "accuracy_score(y_test, y_linha['Class'])"
      ],
      "metadata": {
        "id": "bItrqLXWTy1g",
        "outputId": "a4b0827f-7238-46e7-8831-0badaa74a88e",
        "colab": {
          "base_uri": "https://localhost:8080/"
        }
      },
      "execution_count": 53,
      "outputs": [
        {
          "output_type": "execute_result",
          "data": {
            "text/plain": [
              "0.7160493827160493"
            ]
          },
          "metadata": {},
          "execution_count": 53
        }
      ]
    }
  ]
}