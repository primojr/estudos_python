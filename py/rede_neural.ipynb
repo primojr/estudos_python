{
  "nbformat": 4,
  "nbformat_minor": 0,
  "metadata": {
    "colab": {
      "name": "rede_neural.ipynb",
      "provenance": [],
      "toc_visible": true,
      "authorship_tag": "ABX9TyO6lIyljbHePPI0gbUFa1he",
      "include_colab_link": true
    },
    "kernelspec": {
      "name": "python3",
      "display_name": "Python 3"
    },
    "language_info": {
      "name": "python"
    }
  },
  "cells": [
    {
      "cell_type": "markdown",
      "metadata": {
        "id": "view-in-github",
        "colab_type": "text"
      },
      "source": [
        "<a href=\"https://colab.research.google.com/github/primojr/estudos_python/blob/master/py/rede_neural.ipynb\" target=\"_parent\"><img src=\"https://colab.research.google.com/assets/colab-badge.svg\" alt=\"Open In Colab\"/></a>"
      ]
    },
    {
      "cell_type": "markdown",
      "source": [
        "\n",
        "# Objetivo:\n",
        "\n",
        "## Treinar o modelo usando `MLPClassifier` e comprar o resultado do `randon_forest`\n"
      ],
      "metadata": {
        "id": "KfkdrsTdCYgZ"
      }
    },
    {
      "cell_type": "markdown",
      "source": [
        "## 1.Importar bibliotecas "
      ],
      "metadata": {
        "id": "2GGZZ9lfODmo"
      }
    },
    {
      "cell_type": "code",
      "execution_count": 23,
      "metadata": {
        "id": "SulEQ-C2JFOI"
      },
      "outputs": [],
      "source": [
        "from sklearn import datasets \n",
        "from sklearn.neural_network import  MLPClassifier \n",
        "\n",
        "# # Bibliotecas Auxiliares\n",
        "import numpy as np\n",
        "import pandas as pd\n",
        "import matplotlib.pyplot as plt\n",
        "\n",
        "np.random.seed(13)\n",
        "\n",
        "df = pd.read_csv(\"dfFAmostra.csv\", delimiter=\";\")\n",
        "\n",
        "# # TensorFlow e tf.keras\n",
        "# import tensorflow as tf\n",
        "# from tensorflow import keras\n",
        "\n",
        "\n",
        "# print(tf.__version__)"
      ]
    },
    {
      "cell_type": "code",
      "source": [
        "df.head(2)"
      ],
      "metadata": {
        "colab": {
          "base_uri": "https://localhost:8080/",
          "height": 260
        },
        "id": "-FZy0UNak5Gv",
        "outputId": "433a6fc0-d093-434b-a4ba-e5cf7b8f494b"
      },
      "execution_count": 24,
      "outputs": [
        {
          "output_type": "execute_result",
          "data": {
            "text/plain": [
              "                                     id   system  sexo_f class_cep  \\\n",
              "0  e281e652-c369-4a8b-9a36-6e085cfcfca5  android       1  B.Neutro   \n",
              "1  f987742c-4e4f-418b-a95d-2fedba305f4f  android       0  B.Neutro   \n",
              "\n",
              "   t.idade_ate30  t.br  t.inpp  t.offus  t.b2w  t.lasa  t.ampl_rec  \\\n",
              "0              0     0       0        0      0       1   -5.225747   \n",
              "1              0     0       0        1      0       0   -6.654153   \n",
              "\n",
              "   t.ampl_app  t.frente_offus_inapp  t.band_outras       classe1  \n",
              "0   -1.120118                     0              0  SemCartaoApp  \n",
              "1    2.538974                     0              0  ComCartaoApp  "
            ],
            "text/html": [
              "\n",
              "  <div id=\"df-65b1d415-ce5e-40a9-8443-c15dd8ca7db9\">\n",
              "    <div class=\"colab-df-container\">\n",
              "      <div>\n",
              "<style scoped>\n",
              "    .dataframe tbody tr th:only-of-type {\n",
              "        vertical-align: middle;\n",
              "    }\n",
              "\n",
              "    .dataframe tbody tr th {\n",
              "        vertical-align: top;\n",
              "    }\n",
              "\n",
              "    .dataframe thead th {\n",
              "        text-align: right;\n",
              "    }\n",
              "</style>\n",
              "<table border=\"1\" class=\"dataframe\">\n",
              "  <thead>\n",
              "    <tr style=\"text-align: right;\">\n",
              "      <th></th>\n",
              "      <th>id</th>\n",
              "      <th>system</th>\n",
              "      <th>sexo_f</th>\n",
              "      <th>class_cep</th>\n",
              "      <th>t.idade_ate30</th>\n",
              "      <th>t.br</th>\n",
              "      <th>t.inpp</th>\n",
              "      <th>t.offus</th>\n",
              "      <th>t.b2w</th>\n",
              "      <th>t.lasa</th>\n",
              "      <th>t.ampl_rec</th>\n",
              "      <th>t.ampl_app</th>\n",
              "      <th>t.frente_offus_inapp</th>\n",
              "      <th>t.band_outras</th>\n",
              "      <th>classe1</th>\n",
              "    </tr>\n",
              "  </thead>\n",
              "  <tbody>\n",
              "    <tr>\n",
              "      <th>0</th>\n",
              "      <td>e281e652-c369-4a8b-9a36-6e085cfcfca5</td>\n",
              "      <td>android</td>\n",
              "      <td>1</td>\n",
              "      <td>B.Neutro</td>\n",
              "      <td>0</td>\n",
              "      <td>0</td>\n",
              "      <td>0</td>\n",
              "      <td>0</td>\n",
              "      <td>0</td>\n",
              "      <td>1</td>\n",
              "      <td>-5.225747</td>\n",
              "      <td>-1.120118</td>\n",
              "      <td>0</td>\n",
              "      <td>0</td>\n",
              "      <td>SemCartaoApp</td>\n",
              "    </tr>\n",
              "    <tr>\n",
              "      <th>1</th>\n",
              "      <td>f987742c-4e4f-418b-a95d-2fedba305f4f</td>\n",
              "      <td>android</td>\n",
              "      <td>0</td>\n",
              "      <td>B.Neutro</td>\n",
              "      <td>0</td>\n",
              "      <td>0</td>\n",
              "      <td>0</td>\n",
              "      <td>1</td>\n",
              "      <td>0</td>\n",
              "      <td>0</td>\n",
              "      <td>-6.654153</td>\n",
              "      <td>2.538974</td>\n",
              "      <td>0</td>\n",
              "      <td>0</td>\n",
              "      <td>ComCartaoApp</td>\n",
              "    </tr>\n",
              "  </tbody>\n",
              "</table>\n",
              "</div>\n",
              "      <button class=\"colab-df-convert\" onclick=\"convertToInteractive('df-65b1d415-ce5e-40a9-8443-c15dd8ca7db9')\"\n",
              "              title=\"Convert this dataframe to an interactive table.\"\n",
              "              style=\"display:none;\">\n",
              "        \n",
              "  <svg xmlns=\"http://www.w3.org/2000/svg\" height=\"24px\"viewBox=\"0 0 24 24\"\n",
              "       width=\"24px\">\n",
              "    <path d=\"M0 0h24v24H0V0z\" fill=\"none\"/>\n",
              "    <path d=\"M18.56 5.44l.94 2.06.94-2.06 2.06-.94-2.06-.94-.94-2.06-.94 2.06-2.06.94zm-11 1L8.5 8.5l.94-2.06 2.06-.94-2.06-.94L8.5 2.5l-.94 2.06-2.06.94zm10 10l.94 2.06.94-2.06 2.06-.94-2.06-.94-.94-2.06-.94 2.06-2.06.94z\"/><path d=\"M17.41 7.96l-1.37-1.37c-.4-.4-.92-.59-1.43-.59-.52 0-1.04.2-1.43.59L10.3 9.45l-7.72 7.72c-.78.78-.78 2.05 0 2.83L4 21.41c.39.39.9.59 1.41.59.51 0 1.02-.2 1.41-.59l7.78-7.78 2.81-2.81c.8-.78.8-2.07 0-2.86zM5.41 20L4 18.59l7.72-7.72 1.47 1.35L5.41 20z\"/>\n",
              "  </svg>\n",
              "      </button>\n",
              "      \n",
              "  <style>\n",
              "    .colab-df-container {\n",
              "      display:flex;\n",
              "      flex-wrap:wrap;\n",
              "      gap: 12px;\n",
              "    }\n",
              "\n",
              "    .colab-df-convert {\n",
              "      background-color: #E8F0FE;\n",
              "      border: none;\n",
              "      border-radius: 50%;\n",
              "      cursor: pointer;\n",
              "      display: none;\n",
              "      fill: #1967D2;\n",
              "      height: 32px;\n",
              "      padding: 0 0 0 0;\n",
              "      width: 32px;\n",
              "    }\n",
              "\n",
              "    .colab-df-convert:hover {\n",
              "      background-color: #E2EBFA;\n",
              "      box-shadow: 0px 1px 2px rgba(60, 64, 67, 0.3), 0px 1px 3px 1px rgba(60, 64, 67, 0.15);\n",
              "      fill: #174EA6;\n",
              "    }\n",
              "\n",
              "    [theme=dark] .colab-df-convert {\n",
              "      background-color: #3B4455;\n",
              "      fill: #D2E3FC;\n",
              "    }\n",
              "\n",
              "    [theme=dark] .colab-df-convert:hover {\n",
              "      background-color: #434B5C;\n",
              "      box-shadow: 0px 1px 3px 1px rgba(0, 0, 0, 0.15);\n",
              "      filter: drop-shadow(0px 1px 2px rgba(0, 0, 0, 0.3));\n",
              "      fill: #FFFFFF;\n",
              "    }\n",
              "  </style>\n",
              "\n",
              "      <script>\n",
              "        const buttonEl =\n",
              "          document.querySelector('#df-65b1d415-ce5e-40a9-8443-c15dd8ca7db9 button.colab-df-convert');\n",
              "        buttonEl.style.display =\n",
              "          google.colab.kernel.accessAllowed ? 'block' : 'none';\n",
              "\n",
              "        async function convertToInteractive(key) {\n",
              "          const element = document.querySelector('#df-65b1d415-ce5e-40a9-8443-c15dd8ca7db9');\n",
              "          const dataTable =\n",
              "            await google.colab.kernel.invokeFunction('convertToInteractive',\n",
              "                                                     [key], {});\n",
              "          if (!dataTable) return;\n",
              "\n",
              "          const docLinkHtml = 'Like what you see? Visit the ' +\n",
              "            '<a target=\"_blank\" href=https://colab.research.google.com/notebooks/data_table.ipynb>data table notebook</a>'\n",
              "            + ' to learn more about interactive tables.';\n",
              "          element.innerHTML = '';\n",
              "          dataTable['output_type'] = 'display_data';\n",
              "          await google.colab.output.renderOutput(dataTable, element);\n",
              "          const docLink = document.createElement('div');\n",
              "          docLink.innerHTML = docLinkHtml;\n",
              "          element.appendChild(docLink);\n",
              "        }\n",
              "      </script>\n",
              "    </div>\n",
              "  </div>\n",
              "  "
            ]
          },
          "metadata": {},
          "execution_count": 24
        }
      ]
    },
    {
      "cell_type": "markdown",
      "source": [
        "# 2. Ajustes na base"
      ],
      "metadata": {
        "id": "mB3V8VQwye2e"
      }
    },
    {
      "cell_type": "code",
      "source": [
        "# Sys\n",
        "df['system'] = df['system'].replace('android','1')\n",
        "df['system'] = df['system'].replace('ios','0')\n",
        "df['system'] = df['system'].astype(float)\n",
        "\n",
        "# # Classe cep\n",
        "df['class_cep'].value_counts()\n",
        "df['class_cep'] = df['class_cep'].replace('A.Ruim','0')\n",
        "df['class_cep'] = df['class_cep'].replace('B.Neutro','1')\n",
        "df['class_cep'] = df['class_cep'].replace('C.Medio','2')\n",
        "df['class_cep'] = df['class_cep'].replace('D.Bom','3')\n",
        "df['class_cep'] = df['class_cep'].replace('E.MuitoBom','4')\n",
        "df['class_cep'] = df['class_cep'].astype(float)\n",
        "\n",
        "\n",
        "## Binario resposta\n",
        "df.loc[df['classe1'] == 'ComCartaoApp', 'Class'] = 1\n",
        "df.loc[df['classe1'] != 'ComCartaoApp', 'Class'] = 0\n",
        "df = df.drop('classe1',axis=1)\n",
        "df.head()\n",
        "\n",
        "\n",
        "# Remover na()\n",
        "df = df.dropna()\n",
        "df = df.reset_index()\n",
        "\n",
        "#I Tipos dos dados\n",
        "df.dtypes"
      ],
      "metadata": {
        "colab": {
          "base_uri": "https://localhost:8080/"
        },
        "id": "M8Cj_YdbkDiw",
        "outputId": "44786e6f-db29-4f8e-9a95-1a71baa5c785"
      },
      "execution_count": 25,
      "outputs": [
        {
          "output_type": "execute_result",
          "data": {
            "text/plain": [
              "index                     int64\n",
              "id                       object\n",
              "system                  float64\n",
              "sexo_f                    int64\n",
              "class_cep               float64\n",
              "t.idade_ate30             int64\n",
              "t.br                      int64\n",
              "t.inpp                    int64\n",
              "t.offus                   int64\n",
              "t.b2w                     int64\n",
              "t.lasa                    int64\n",
              "t.ampl_rec              float64\n",
              "t.ampl_app              float64\n",
              "t.frente_offus_inapp      int64\n",
              "t.band_outras             int64\n",
              "Class                   float64\n",
              "dtype: object"
            ]
          },
          "metadata": {},
          "execution_count": 25
        }
      ]
    },
    {
      "cell_type": "markdown",
      "source": [
        "# 3. Separar amostra e treino"
      ],
      "metadata": {
        "id": "aX-b9ZYMORQA"
      }
    },
    {
      "cell_type": "code",
      "source": [
        "#df = df.loc[:,df.columns[1:]]\n",
        "X = df.loc[:, df.columns[2:14]]\n",
        "y = df.loc[:,['Class']]\n",
        "\n",
        "n_aleatorio = np.arange(df.shape[0])\n",
        "np.random.shuffle(n_aleatorio)\n",
        "\n",
        "X_train = X.loc[n_aleatorio[:3000],:]\n",
        "X_test  = X.loc[n_aleatorio[3000:],:]\n",
        "\n",
        "y_train = y.loc[n_aleatorio[:3000],:]\n",
        "y_test  = y.loc[n_aleatorio[3000:],:]\n"
      ],
      "metadata": {
        "id": "IjgfYCGVOQlx"
      },
      "execution_count": 27,
      "outputs": []
    },
    {
      "cell_type": "markdown",
      "source": [
        "# 4. Treino do modelo\n",
        "\n",
        "\n"
      ],
      "metadata": {
        "id": "O8pyMWzIxtct"
      }
    },
    {
      "cell_type": "markdown",
      "source": [
        "## 4.2 MPLClassifier\n",
        "\n",
        "- Paramentros:\n",
        "  -hidden_layer_sizes =  \n",
        "  - activation = Função de ativação  \n",
        "  - max_inter = Maximo de interação  \n",
        "  - learning_rate_init =  \n",
        "  "
      ],
      "metadata": {
        "id": "YNbUfnasWSi_"
      }
    },
    {
      "cell_type": "code",
      "source": [
        "from pandas.core.common import random_state\n",
        "clf = MLPClassifier(solver = 'adam',\n",
        "                    hidden_layer_sizes=(2,) ,\n",
        "                    learning_rate_init=0.00001, \n",
        "                    activation='logistic',\n",
        "                    max_iter = 1500,\n",
        "                    random_state = 1\n",
        "                    )\n",
        "\n",
        "clf.fit(X_train, y_train)\n",
        "\n",
        "y_pred = clf.predict_proba(X_test)\n",
        "y_pred"
      ],
      "metadata": {
        "colab": {
          "base_uri": "https://localhost:8080/"
        },
        "id": "z8eBh9eLR-n6",
        "outputId": "cd822cce-8faf-47c9-d9c3-3e93352820a7"
      },
      "execution_count": 51,
      "outputs": [
        {
          "output_type": "stream",
          "name": "stderr",
          "text": [
            "/usr/local/lib/python3.7/dist-packages/sklearn/neural_network/_multilayer_perceptron.py:1109: DataConversionWarning: A column-vector y was passed when a 1d array was expected. Please change the shape of y to (n_samples, ), for example using ravel().\n",
            "  y = column_or_1d(y, warn=True)\n"
          ]
        },
        {
          "output_type": "execute_result",
          "data": {
            "text/plain": [
              "array([[0.77309258, 0.22690742],\n",
              "       [0.68895414, 0.31104586],\n",
              "       [0.68454003, 0.31545997],\n",
              "       ...,\n",
              "       [0.73594836, 0.26405164],\n",
              "       [0.63393082, 0.36606918],\n",
              "       [0.71925994, 0.28074006]])"
            ]
          },
          "metadata": {},
          "execution_count": 51
        }
      ]
    },
    {
      "cell_type": "markdown",
      "source": [
        "### 4.2.1 Validar ajuste"
      ],
      "metadata": {
        "id": "rr1YBwqPWsWm"
      }
    },
    {
      "cell_type": "code",
      "source": [
        "# Categorizar a Classe de previsão\n",
        "y_linha = pd.DataFrame(y_pred)\n",
        "y_linha.loc[y_linha[1] >= .5, 'Class'] = 1\n",
        "y_linha.loc[y_linha[1] <  .5, 'Class'] = 0 \n",
        "\n",
        "from sklearn.metrics import accuracy_score\n",
        "accuracy_score(y_test, y_linha['Class'])"
      ],
      "metadata": {
        "id": "oX-Q--NdWoRu",
        "outputId": "c32f343b-879c-47fb-a1f1-196301cc9179",
        "colab": {
          "base_uri": "https://localhost:8080/"
        }
      },
      "execution_count": 52,
      "outputs": [
        {
          "output_type": "execute_result",
          "data": {
            "text/plain": [
              "0.5489078822412156"
            ]
          },
          "metadata": {},
          "execution_count": 52
        }
      ]
    },
    {
      "cell_type": "markdown",
      "source": [
        "## 4.2 Treino usando keras"
      ],
      "metadata": {
        "id": "0MHjRL7_PdQM"
      }
    },
    {
      "cell_type": "code",
      "source": [
        "import tensorflow as tf\n",
        "from tensorflow import keras\n",
        "tf.random.set_seed(42)"
      ],
      "metadata": {
        "id": "1SNoekXcPctU"
      },
      "execution_count": 53,
      "outputs": []
    },
    {
      "cell_type": "code",
      "source": [
        "model = tf.keras.Sequential([\n",
        "    tf.keras.layers.Dense(128, activation='relu'),\n",
        "    tf.keras.layers.Dense(256, activation='relu'),\n",
        "    tf.keras.layers.Dense(256, activation='relu'),\n",
        "    tf.keras.layers.Dense(1, activation='sigmoid')\n",
        "])\n",
        "\n",
        "model.compile(\n",
        "    loss=tf.keras.losses.binary_crossentropy,\n",
        "    optimizer=tf.keras.optimizers.Adam(lr=0.03),\n",
        "    metrics=[\n",
        "        tf.keras.metrics.BinaryAccuracy(name='accuracy'),\n",
        "        tf.keras.metrics.Precision(name='precision'),\n",
        "        tf.keras.metrics.Recall(name='recall')\n",
        "    ]\n",
        ")\n",
        "\n",
        "history = model.fit(X_train, y_train, epochs=100)"
      ],
      "metadata": {
        "id": "1v8sF0yePw82",
        "outputId": "0f74de68-092c-468a-e688-009c9b6c5bc8",
        "colab": {
          "base_uri": "https://localhost:8080/"
        }
      },
      "execution_count": 54,
      "outputs": [
        {
          "output_type": "stream",
          "name": "stdout",
          "text": [
            "Epoch 1/100\n"
          ]
        },
        {
          "output_type": "stream",
          "name": "stderr",
          "text": [
            "/usr/local/lib/python3.7/dist-packages/keras/optimizer_v2/adam.py:105: UserWarning: The `lr` argument is deprecated, use `learning_rate` instead.\n",
            "  super(Adam, self).__init__(name, **kwargs)\n"
          ]
        },
        {
          "output_type": "stream",
          "name": "stdout",
          "text": [
            "94/94 [==============================] - 1s 4ms/step - loss: 0.7846 - accuracy: 0.7163 - precision: 0.6907 - recall: 0.6634\n",
            "Epoch 2/100\n",
            "94/94 [==============================] - 0s 4ms/step - loss: 0.4932 - accuracy: 0.7590 - precision: 0.7263 - recall: 0.7409\n",
            "Epoch 3/100\n",
            "94/94 [==============================] - 0s 4ms/step - loss: 0.4862 - accuracy: 0.7680 - precision: 0.7464 - recall: 0.7297\n",
            "Epoch 4/100\n",
            "94/94 [==============================] - 0s 4ms/step - loss: 0.4894 - accuracy: 0.7653 - precision: 0.7327 - recall: 0.7491\n",
            "Epoch 5/100\n",
            "94/94 [==============================] - 0s 4ms/step - loss: 0.4767 - accuracy: 0.7693 - precision: 0.7413 - recall: 0.7446\n",
            "Epoch 6/100\n",
            "94/94 [==============================] - 0s 4ms/step - loss: 0.4876 - accuracy: 0.7640 - precision: 0.7418 - recall: 0.7252\n",
            "Epoch 7/100\n",
            "94/94 [==============================] - 0s 4ms/step - loss: 0.4899 - accuracy: 0.7703 - precision: 0.7383 - recall: 0.7543\n",
            "Epoch 8/100\n",
            "94/94 [==============================] - 0s 4ms/step - loss: 0.4959 - accuracy: 0.7653 - precision: 0.7430 - recall: 0.7275\n",
            "Epoch 9/100\n",
            "94/94 [==============================] - 0s 4ms/step - loss: 0.4832 - accuracy: 0.7690 - precision: 0.7393 - recall: 0.7476\n",
            "Epoch 10/100\n",
            "94/94 [==============================] - 0s 4ms/step - loss: 0.4700 - accuracy: 0.7707 - precision: 0.7403 - recall: 0.7513\n",
            "Epoch 11/100\n",
            "94/94 [==============================] - 0s 4ms/step - loss: 0.4873 - accuracy: 0.7620 - precision: 0.7304 - recall: 0.7424\n",
            "Epoch 12/100\n",
            "94/94 [==============================] - 0s 4ms/step - loss: 0.5869 - accuracy: 0.7433 - precision: 0.7335 - recall: 0.6701\n",
            "Epoch 13/100\n",
            "94/94 [==============================] - 0s 4ms/step - loss: 0.4991 - accuracy: 0.7667 - precision: 0.7510 - recall: 0.7163\n",
            "Epoch 14/100\n",
            "94/94 [==============================] - 0s 4ms/step - loss: 0.4665 - accuracy: 0.7710 - precision: 0.7437 - recall: 0.7453\n",
            "Epoch 15/100\n",
            "94/94 [==============================] - 0s 4ms/step - loss: 0.4622 - accuracy: 0.7720 - precision: 0.7601 - recall: 0.7171\n",
            "Epoch 16/100\n",
            "94/94 [==============================] - 0s 4ms/step - loss: 0.4608 - accuracy: 0.7827 - precision: 0.7520 - recall: 0.7677\n",
            "Epoch 17/100\n",
            "94/94 [==============================] - 0s 4ms/step - loss: 0.4581 - accuracy: 0.7780 - precision: 0.7586 - recall: 0.7394\n",
            "Epoch 18/100\n",
            "94/94 [==============================] - 0s 5ms/step - loss: 0.4881 - accuracy: 0.7743 - precision: 0.7319 - recall: 0.7826\n",
            "Epoch 19/100\n",
            "94/94 [==============================] - 1s 7ms/step - loss: 0.4776 - accuracy: 0.7710 - precision: 0.7210 - recall: 0.7967\n",
            "Epoch 20/100\n",
            "94/94 [==============================] - 1s 7ms/step - loss: 0.4609 - accuracy: 0.7717 - precision: 0.7426 - recall: 0.7498\n",
            "Epoch 21/100\n",
            "94/94 [==============================] - 1s 6ms/step - loss: 0.4556 - accuracy: 0.7803 - precision: 0.7372 - recall: 0.7915\n",
            "Epoch 22/100\n",
            "94/94 [==============================] - 1s 6ms/step - loss: 0.4635 - accuracy: 0.7787 - precision: 0.7333 - recall: 0.7945\n",
            "Epoch 23/100\n",
            "94/94 [==============================] - 0s 4ms/step - loss: 0.4560 - accuracy: 0.7740 - precision: 0.7360 - recall: 0.7722\n",
            "Epoch 24/100\n",
            "94/94 [==============================] - 0s 4ms/step - loss: 0.4563 - accuracy: 0.7817 - precision: 0.7409 - recall: 0.7878\n",
            "Epoch 25/100\n",
            "94/94 [==============================] - 0s 4ms/step - loss: 0.4557 - accuracy: 0.7837 - precision: 0.7567 - recall: 0.7617\n",
            "Epoch 26/100\n",
            "94/94 [==============================] - 0s 4ms/step - loss: 0.4590 - accuracy: 0.7790 - precision: 0.7429 - recall: 0.7744\n",
            "Epoch 27/100\n",
            "94/94 [==============================] - 0s 4ms/step - loss: 0.4731 - accuracy: 0.7813 - precision: 0.7404 - recall: 0.7878\n",
            "Epoch 28/100\n",
            "94/94 [==============================] - 0s 4ms/step - loss: 0.4555 - accuracy: 0.7760 - precision: 0.7358 - recall: 0.7796\n",
            "Epoch 29/100\n",
            "94/94 [==============================] - 0s 4ms/step - loss: 0.4562 - accuracy: 0.7790 - precision: 0.7439 - recall: 0.7722\n",
            "Epoch 30/100\n",
            "94/94 [==============================] - 0s 4ms/step - loss: 0.4451 - accuracy: 0.7850 - precision: 0.7472 - recall: 0.7856\n",
            "Epoch 31/100\n",
            "94/94 [==============================] - 0s 4ms/step - loss: 0.4508 - accuracy: 0.7790 - precision: 0.7439 - recall: 0.7722\n",
            "Epoch 32/100\n",
            "94/94 [==============================] - 0s 4ms/step - loss: 0.4469 - accuracy: 0.7800 - precision: 0.7396 - recall: 0.7848\n",
            "Epoch 33/100\n",
            "94/94 [==============================] - 0s 4ms/step - loss: 0.4423 - accuracy: 0.7863 - precision: 0.7407 - recall: 0.8042\n",
            "Epoch 34/100\n",
            "94/94 [==============================] - 0s 4ms/step - loss: 0.4412 - accuracy: 0.7847 - precision: 0.7466 - recall: 0.7856\n",
            "Epoch 35/100\n",
            "94/94 [==============================] - 0s 5ms/step - loss: 0.4511 - accuracy: 0.7833 - precision: 0.7330 - recall: 0.8116\n",
            "Epoch 36/100\n",
            "94/94 [==============================] - 0s 5ms/step - loss: 0.4487 - accuracy: 0.7737 - precision: 0.7375 - recall: 0.7677\n",
            "Epoch 37/100\n",
            "94/94 [==============================] - 0s 4ms/step - loss: 0.4451 - accuracy: 0.7780 - precision: 0.7402 - recall: 0.7766\n",
            "Epoch 38/100\n",
            "94/94 [==============================] - 0s 4ms/step - loss: 0.4532 - accuracy: 0.7810 - precision: 0.7486 - recall: 0.7692\n",
            "Epoch 39/100\n",
            "94/94 [==============================] - 0s 4ms/step - loss: 0.4544 - accuracy: 0.7797 - precision: 0.7450 - recall: 0.7722\n",
            "Epoch 40/100\n",
            "94/94 [==============================] - 0s 4ms/step - loss: 0.4468 - accuracy: 0.7820 - precision: 0.7418 - recall: 0.7870\n",
            "Epoch 41/100\n",
            "94/94 [==============================] - 0s 4ms/step - loss: 0.4479 - accuracy: 0.7847 - precision: 0.7484 - recall: 0.7818\n",
            "Epoch 42/100\n",
            "94/94 [==============================] - 0s 4ms/step - loss: 0.4512 - accuracy: 0.7807 - precision: 0.7431 - recall: 0.7796\n",
            "Epoch 43/100\n",
            "94/94 [==============================] - 0s 4ms/step - loss: 0.4567 - accuracy: 0.7797 - precision: 0.7475 - recall: 0.7669\n",
            "Epoch 44/100\n",
            "94/94 [==============================] - 0s 4ms/step - loss: 0.4469 - accuracy: 0.7850 - precision: 0.7479 - recall: 0.7841\n",
            "Epoch 45/100\n",
            "94/94 [==============================] - 0s 4ms/step - loss: 0.4462 - accuracy: 0.7787 - precision: 0.7305 - recall: 0.8012\n",
            "Epoch 46/100\n",
            "94/94 [==============================] - 0s 4ms/step - loss: 0.4443 - accuracy: 0.7847 - precision: 0.7449 - recall: 0.7893\n",
            "Epoch 47/100\n",
            "94/94 [==============================] - 0s 4ms/step - loss: 0.4379 - accuracy: 0.7850 - precision: 0.7458 - recall: 0.7885\n",
            "Epoch 48/100\n",
            "94/94 [==============================] - 0s 4ms/step - loss: 0.4385 - accuracy: 0.7833 - precision: 0.7463 - recall: 0.7818\n",
            "Epoch 49/100\n",
            "94/94 [==============================] - 0s 4ms/step - loss: 0.4399 - accuracy: 0.7900 - precision: 0.7447 - recall: 0.8079\n",
            "Epoch 50/100\n",
            "94/94 [==============================] - 0s 4ms/step - loss: 0.4443 - accuracy: 0.7837 - precision: 0.7364 - recall: 0.8049\n",
            "Epoch 51/100\n",
            "94/94 [==============================] - 0s 4ms/step - loss: 0.4395 - accuracy: 0.7877 - precision: 0.7504 - recall: 0.7878\n",
            "Epoch 52/100\n",
            "94/94 [==============================] - 0s 4ms/step - loss: 0.4364 - accuracy: 0.7887 - precision: 0.7502 - recall: 0.7915\n",
            "Epoch 53/100\n",
            "94/94 [==============================] - 0s 4ms/step - loss: 0.4372 - accuracy: 0.7883 - precision: 0.7507 - recall: 0.7893\n",
            "Epoch 54/100\n",
            "94/94 [==============================] - 0s 4ms/step - loss: 0.4496 - accuracy: 0.7823 - precision: 0.7413 - recall: 0.7893\n",
            "Epoch 55/100\n",
            "94/94 [==============================] - 0s 4ms/step - loss: 0.4426 - accuracy: 0.7833 - precision: 0.7459 - recall: 0.7826\n",
            "Epoch 56/100\n",
            "94/94 [==============================] - 0s 4ms/step - loss: 0.4420 - accuracy: 0.7817 - precision: 0.7353 - recall: 0.8004\n",
            "Epoch 57/100\n",
            "94/94 [==============================] - 0s 4ms/step - loss: 0.4407 - accuracy: 0.7853 - precision: 0.7542 - recall: 0.7722\n",
            "Epoch 58/100\n",
            "94/94 [==============================] - 0s 4ms/step - loss: 0.4463 - accuracy: 0.7830 - precision: 0.7420 - recall: 0.7900\n",
            "Epoch 59/100\n",
            "94/94 [==============================] - 0s 4ms/step - loss: 0.4358 - accuracy: 0.7880 - precision: 0.7491 - recall: 0.7915\n",
            "Epoch 60/100\n",
            "94/94 [==============================] - 0s 4ms/step - loss: 0.4347 - accuracy: 0.7857 - precision: 0.7424 - recall: 0.7982\n",
            "Epoch 61/100\n",
            "94/94 [==============================] - 0s 4ms/step - loss: 0.4315 - accuracy: 0.7890 - precision: 0.7528 - recall: 0.7870\n",
            "Epoch 62/100\n",
            "94/94 [==============================] - 0s 4ms/step - loss: 0.4340 - accuracy: 0.7870 - precision: 0.7489 - recall: 0.7885\n",
            "Epoch 63/100\n",
            "94/94 [==============================] - 0s 4ms/step - loss: 0.4310 - accuracy: 0.7920 - precision: 0.7505 - recall: 0.8019\n",
            "Epoch 64/100\n",
            "94/94 [==============================] - 0s 4ms/step - loss: 0.4425 - accuracy: 0.7843 - precision: 0.7482 - recall: 0.7811\n",
            "Epoch 65/100\n",
            "94/94 [==============================] - 0s 4ms/step - loss: 0.4423 - accuracy: 0.7833 - precision: 0.7452 - recall: 0.7841\n",
            "Epoch 66/100\n",
            "94/94 [==============================] - 0s 4ms/step - loss: 0.4452 - accuracy: 0.7853 - precision: 0.7344 - recall: 0.8153\n",
            "Epoch 67/100\n",
            "94/94 [==============================] - 0s 4ms/step - loss: 0.4388 - accuracy: 0.7847 - precision: 0.7432 - recall: 0.7930\n",
            "Epoch 68/100\n",
            "94/94 [==============================] - 0s 4ms/step - loss: 0.4398 - accuracy: 0.7867 - precision: 0.7453 - recall: 0.7952\n",
            "Epoch 69/100\n",
            "94/94 [==============================] - 0s 4ms/step - loss: 0.4390 - accuracy: 0.7847 - precision: 0.7408 - recall: 0.7982\n",
            "Epoch 70/100\n",
            "94/94 [==============================] - 0s 4ms/step - loss: 0.4300 - accuracy: 0.7903 - precision: 0.7472 - recall: 0.8034\n",
            "Epoch 71/100\n",
            "94/94 [==============================] - 0s 4ms/step - loss: 0.4334 - accuracy: 0.7883 - precision: 0.7411 - recall: 0.8101\n",
            "Epoch 72/100\n",
            "94/94 [==============================] - 0s 4ms/step - loss: 0.4343 - accuracy: 0.7907 - precision: 0.7505 - recall: 0.7975\n",
            "Epoch 73/100\n",
            "94/94 [==============================] - 0s 4ms/step - loss: 0.4330 - accuracy: 0.7840 - precision: 0.7359 - recall: 0.8071\n",
            "Epoch 74/100\n",
            "94/94 [==============================] - 0s 4ms/step - loss: 0.4313 - accuracy: 0.7920 - precision: 0.7478 - recall: 0.8079\n",
            "Epoch 75/100\n",
            "94/94 [==============================] - 0s 3ms/step - loss: 0.4317 - accuracy: 0.7840 - precision: 0.7366 - recall: 0.8057\n",
            "Epoch 76/100\n",
            "94/94 [==============================] - 0s 4ms/step - loss: 0.4344 - accuracy: 0.7767 - precision: 0.7375 - recall: 0.7781\n",
            "Epoch 77/100\n",
            "94/94 [==============================] - 0s 4ms/step - loss: 0.4346 - accuracy: 0.7843 - precision: 0.7384 - recall: 0.8027\n",
            "Epoch 78/100\n",
            "94/94 [==============================] - 0s 4ms/step - loss: 0.4319 - accuracy: 0.7913 - precision: 0.7537 - recall: 0.7930\n",
            "Epoch 79/100\n",
            "94/94 [==============================] - 0s 4ms/step - loss: 0.4317 - accuracy: 0.7840 - precision: 0.7297 - recall: 0.8220\n",
            "Epoch 80/100\n",
            "94/94 [==============================] - 0s 4ms/step - loss: 0.4336 - accuracy: 0.7900 - precision: 0.7498 - recall: 0.7967\n",
            "Epoch 81/100\n",
            "94/94 [==============================] - 0s 4ms/step - loss: 0.4258 - accuracy: 0.7877 - precision: 0.7353 - recall: 0.8213\n",
            "Epoch 82/100\n",
            "94/94 [==============================] - 0s 4ms/step - loss: 0.4287 - accuracy: 0.7887 - precision: 0.7453 - recall: 0.8019\n",
            "Epoch 83/100\n",
            "94/94 [==============================] - 0s 4ms/step - loss: 0.4291 - accuracy: 0.7807 - precision: 0.7341 - recall: 0.7997\n",
            "Epoch 84/100\n",
            "94/94 [==============================] - 0s 4ms/step - loss: 0.4420 - accuracy: 0.7867 - precision: 0.7426 - recall: 0.8012\n",
            "Epoch 85/100\n",
            "94/94 [==============================] - 0s 4ms/step - loss: 0.4425 - accuracy: 0.7830 - precision: 0.7341 - recall: 0.8079\n",
            "Epoch 86/100\n",
            "94/94 [==============================] - 0s 4ms/step - loss: 0.4334 - accuracy: 0.7853 - precision: 0.7498 - recall: 0.7811\n",
            "Epoch 87/100\n",
            "94/94 [==============================] - 0s 4ms/step - loss: 0.4311 - accuracy: 0.7940 - precision: 0.7606 - recall: 0.7878\n",
            "Epoch 88/100\n",
            "94/94 [==============================] - 0s 4ms/step - loss: 0.4306 - accuracy: 0.7893 - precision: 0.7556 - recall: 0.7826\n",
            "Epoch 89/100\n",
            "94/94 [==============================] - 0s 4ms/step - loss: 0.4253 - accuracy: 0.7903 - precision: 0.7432 - recall: 0.8124\n",
            "Epoch 90/100\n",
            "94/94 [==============================] - 0s 4ms/step - loss: 0.4250 - accuracy: 0.7917 - precision: 0.7429 - recall: 0.8176\n",
            "Epoch 91/100\n",
            "94/94 [==============================] - 0s 4ms/step - loss: 0.4284 - accuracy: 0.7913 - precision: 0.7437 - recall: 0.8146\n",
            "Epoch 92/100\n",
            "94/94 [==============================] - 0s 4ms/step - loss: 0.4330 - accuracy: 0.7927 - precision: 0.7519 - recall: 0.8012\n",
            "Epoch 93/100\n",
            "94/94 [==============================] - 0s 4ms/step - loss: 0.4283 - accuracy: 0.7853 - precision: 0.7509 - recall: 0.7789\n",
            "Epoch 94/100\n",
            "94/94 [==============================] - 0s 4ms/step - loss: 0.4405 - accuracy: 0.7833 - precision: 0.7293 - recall: 0.8206\n",
            "Epoch 95/100\n",
            "94/94 [==============================] - 0s 4ms/step - loss: 0.4309 - accuracy: 0.7847 - precision: 0.7425 - recall: 0.7945\n",
            "Epoch 96/100\n",
            "94/94 [==============================] - 0s 4ms/step - loss: 0.4369 - accuracy: 0.7900 - precision: 0.7467 - recall: 0.8034\n",
            "Epoch 97/100\n",
            "94/94 [==============================] - 0s 4ms/step - loss: 0.4322 - accuracy: 0.7883 - precision: 0.7493 - recall: 0.7923\n",
            "Epoch 98/100\n",
            "94/94 [==============================] - 0s 4ms/step - loss: 0.4326 - accuracy: 0.7883 - precision: 0.7425 - recall: 0.8071\n",
            "Epoch 99/100\n",
            "94/94 [==============================] - 0s 4ms/step - loss: 0.4297 - accuracy: 0.7890 - precision: 0.7435 - recall: 0.8071\n",
            "Epoch 100/100\n",
            "94/94 [==============================] - 0s 4ms/step - loss: 0.4368 - accuracy: 0.7930 - precision: 0.7553 - recall: 0.7952\n"
          ]
        }
      ]
    },
    {
      "cell_type": "code",
      "source": [
        "import pandas as pd\n",
        "import matplotlib.pyplot as plt\n",
        "\n",
        "pd.DataFrame(history.history).plot(figsize = (8,5))\n",
        "plt.grid(True)\n",
        "plt.gca().set_ylim(0,1)\n",
        "plt.show()"
      ],
      "metadata": {
        "id": "CRTZ64iYTzMI",
        "outputId": "760b3ed1-5f4c-4986-d8a4-856634201667",
        "colab": {
          "base_uri": "https://localhost:8080/",
          "height": 324
        }
      },
      "execution_count": 55,
      "outputs": [
        {
          "output_type": "display_data",
          "data": {
            "text/plain": [
              "<Figure size 576x360 with 1 Axes>"
            ],
            "image/png": "[encoded data removed]"
          },
          "metadata": {
            "needs_background": "light"
          }
        }
      ]
    },
    {
      "cell_type": "code",
      "source": [
        "y_pred = model.predict(X_test)\n",
        "prediction_classes = [\n",
        "    1 if prob > 0.5 else 0 for prob in np.ravel(y_pred)\n",
        "]"
      ],
      "metadata": {
        "id": "bItrqLXWTy1g"
      },
      "execution_count": 50,
      "outputs": []
    }
  ]
}