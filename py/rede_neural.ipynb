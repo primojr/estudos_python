{
  "cells": [
    {
      "cell_type": "markdown",
      "metadata": {},
      "source": [
        "<a href=\"https://colab.research.google.com/github/primojr/estudos_python/blob/master/py/rede_neural.ipynb\" target=\"_parent\"><img src=\"https://colab.research.google.com/assets/colab-badge.svg\" alt=\"Open In Colab\"/></a>\n",
        "\n",
        "# Objetivo:\n",
        "\n",
        "## Treinar o modelo usando `MLPClassifier` e comprar o resultado do `randon_forest`\n",
        "\n",
        "## 1.Importar bibliotecas\n"
      ],
      "id": "f10f32e7"
    },
    {
      "cell_type": "code",
      "metadata": {},
      "source": [
        "from sklearn import datasets \n",
        "from sklearn.neural_network import  MLPClassifier \n",
        "\n",
        "# # Bibliotecas Auxiliares\n",
        "import numpy as np\n",
        "import pandas as pd\n",
        "import matplotlib.pyplot as plt\n",
        "\n",
        "np.random.seed(13)\n",
        "\n",
        "df = pd.read_csv(\"dfFAmostra.csv\", delimiter=\";\")\n",
        "\n",
        "# # TensorFlow e tf.keras\n",
        "# import tensorflow as tf\n",
        "# from tensorflow import keras\n",
        "\n",
        "\n",
        "# print(tf.__version__)"
      ],
      "id": "SulEQ-C2JFOI",
      "execution_count": null,
      "outputs": []
    },
    {
      "cell_type": "code",
      "metadata": {
        "colab": {
          "base_uri": "https://localhost:8080/",
          "height": 226
        },
        "outputId": "963f9013-b6b8-4380-b3d5-10cf4eb031c4"
      },
      "source": [
        "df.head(2)"
      ],
      "id": "-FZy0UNak5Gv",
      "execution_count": null,
      "outputs": []
    },
    {
      "cell_type": "markdown",
      "metadata": {},
      "source": [
        "# 2. Ajustes na base\n"
      ],
      "id": "14598896"
    },
    {
      "cell_type": "code",
      "metadata": {
        "colab": {
          "base_uri": "https://localhost:8080/"
        },
        "outputId": "3d3db893-fc71-4ff0-db80-d88d58f5503a"
      },
      "source": [
        "# Sys\n",
        "df['system'] = df['system'].replace('android','1')\n",
        "df['system'] = df['system'].replace('ios','0')\n",
        "df['system'] = df['system'].astype(float)\n",
        "\n",
        "# # Classe cep\n",
        "df['class_cep'].value_counts()\n",
        "df['class_cep'] = df['class_cep'].replace('A.Ruim','0')\n",
        "df['class_cep'] = df['class_cep'].replace('B.Neutro','1')\n",
        "df['class_cep'] = df['class_cep'].replace('C.Medio','2')\n",
        "df['class_cep'] = df['class_cep'].replace('D.Bom','3')\n",
        "df['class_cep'] = df['class_cep'].replace('E.MuitoBom','4')\n",
        "df['class_cep'] = df['class_cep'].astype(float)\n",
        "\n",
        "\n",
        "## Binario resposta\n",
        "df.loc[df['classe1'] == 'ComCartaoApp', 'Class'] = 1\n",
        "df.loc[df['classe1'] != 'ComCartaoApp', 'Class'] = 0\n",
        "df = df.drop('classe1',axis=1)\n",
        "df.head()\n",
        "\n",
        "\n",
        "# Remover na()\n",
        "df = df.dropna()\n",
        "df = df.reset_index()\n",
        "\n",
        "#I Tipos dos dados\n",
        "df.dtypes"
      ],
      "id": "M8Cj_YdbkDiw",
      "execution_count": null,
      "outputs": []
    },
    {
      "cell_type": "markdown",
      "metadata": {},
      "source": [
        "# 3. Separar amostra e treino\n"
      ],
      "id": "a1faa710"
    },
    {
      "cell_type": "code",
      "metadata": {},
      "source": [
        "#df = df.loc[:,df.columns[1:]]\n",
        "X = df.loc[:, df.columns[2:14]]\n",
        "y = df.loc[:,['Class']]\n",
        "\n",
        "n_aleatorio = np.arange(df.shape[0])\n",
        "np.random.shuffle(n_aleatorio)\n",
        "\n",
        "X_train = X.loc[n_aleatorio[:3000],:]\n",
        "X_test  = X.loc[n_aleatorio[3000:],:]\n",
        "\n",
        "y_train = y.loc[n_aleatorio[:3000],:]\n",
        "y_test  = y.loc[n_aleatorio[3000:],:]"
      ],
      "id": "IjgfYCGVOQlx",
      "execution_count": null,
      "outputs": []
    },
    {
      "cell_type": "markdown",
      "metadata": {},
      "source": [
        "# 4. Treino do modelo\n",
        "\n",
        "## 4.2 MPLClassifier\n",
        "\n",
        "-   Paramentros: -hidden_layer_sizes =\n",
        "    -   activation = Função de ativação\\\n",
        "    -   max_inter = Maximo de interação\\\n",
        "    -   learning_rate_init =\n"
      ],
      "id": "a1205502"
    },
    {
      "cell_type": "code",
      "metadata": {
        "colab": {
          "base_uri": "https://localhost:8080/"
        },
        "outputId": "410becd6-5dac-4150-d349-100515f802fc"
      },
      "source": [
        "from pandas.core.common import random_state\n",
        "clf = MLPClassifier(solver = 'adam',\n",
        "                    hidden_layer_sizes=(2,) ,\n",
        "                    learning_rate_init=0.00001, \n",
        "                    activation='logistic',\n",
        "                    max_iter = 1500,\n",
        "                    random_state = 1\n",
        "                    )\n",
        "\n",
        "clf.fit(X_train, y_train)\n",
        "\n",
        "y_pred = clf.predict_proba(X_test)\n",
        "y_pred"
      ],
      "id": "z8eBh9eLR-n6",
      "execution_count": null,
      "outputs": []
    },
    {
      "cell_type": "markdown",
      "metadata": {},
      "source": [
        "### 4.2.1 Validar ajuste\n"
      ],
      "id": "20e1e22c"
    },
    {
      "cell_type": "code",
      "metadata": {
        "outputId": "d3730c36-d23f-4957-9b6f-78f425e667df",
        "colab": {
          "base_uri": "https://localhost:8080/",
          "height": 433
        }
      },
      "source": [
        "# Categorizar a Classe de previsão\n",
        "y_linha = pd.DataFrame(y_pred)\n",
        "y_linha.loc[y_linha[1] >= .5, 'Class'] = 1\n",
        "y_linha.loc[y_linha[1] <  .5, 'Class'] = 0 \n",
        "\n",
        "from sklearn.metrics import accuracy_score\n",
        "accuracy_score(y_test, y_linha['Class'])"
      ],
      "id": "oX-Q--NdWoRu",
      "execution_count": null,
      "outputs": []
    },
    {
      "cell_type": "markdown",
      "metadata": {},
      "source": [
        "## 4.2 Treino usando keras\n"
      ],
      "id": "d52b125a"
    },
    {
      "cell_type": "code",
      "metadata": {},
      "source": [
        "import tensorflow as tf\n",
        "from tensorflow import keras\n",
        "tf.random.set_seed(42)"
      ],
      "id": "1SNoekXcPctU",
      "execution_count": null,
      "outputs": []
    },
    {
      "cell_type": "code",
      "metadata": {
        "outputId": "d4ab5165-fcf1-4551-d828-6b45a39c215c",
        "colab": {
          "base_uri": "https://localhost:8080/"
        }
      },
      "source": [
        "model = tf.keras.Sequential([\n",
        "    tf.keras.layers.Dense(128, activation='relu'),\n",
        "    tf.keras.layers.Dense(256, activation='relu'),\n",
        "    tf.keras.layers.Dense(256, activation='relu'),\n",
        "    tf.keras.layers.Dense(1, activation='sigmoid')\n",
        "])\n",
        "\n",
        "model.compile(\n",
        "    loss = tf.keras.losses.binary_crossentropy,\n",
        "    optimizer = tf.keras.optimizers.Adam(lr=0.001),\n",
        "    metrics=[\n",
        "        tf.keras.metrics.BinaryAccuracy(name='accuracy'),\n",
        "        tf.keras.metrics.Precision(name='precision'),\n",
        "        tf.keras.metrics.Recall(name='recall')\n",
        "    ]\n",
        ")\n",
        "\n",
        "history = model.fit(X_train, y_train, epochs=100)"
      ],
      "id": "1v8sF0yePw82",
      "execution_count": null,
      "outputs": []
    },
    {
      "cell_type": "code",
      "metadata": {
        "outputId": "f3d0db08-f428-46a0-e0bb-8de6f3430af0",
        "colab": {
          "base_uri": "https://localhost:8080/",
          "height": 324
        }
      },
      "source": [
        "import pandas as pd\n",
        "import matplotlib.pyplot as plt\n",
        "\n",
        "pd.DataFrame(history.history).plot(figsize = (8,5))\n",
        "plt.grid(True)\n",
        "plt.gca().set_ylim(0,1)\n",
        "plt.show()"
      ],
      "id": "CRTZ64iYTzMI",
      "execution_count": null,
      "outputs": []
    },
    {
      "cell_type": "code",
      "metadata": {},
      "source": [
        "y_pred = model.predict(X_test)"
      ],
      "id": "BOQKN8gQQhoF",
      "execution_count": null,
      "outputs": []
    },
    {
      "cell_type": "code",
      "metadata": {
        "outputId": "a4b0827f-7238-46e7-8831-0badaa74a88e",
        "colab": {
          "base_uri": "https://localhost:8080/"
        }
      },
      "source": [
        "# Categorizar a Classe de previsão\n",
        "y_linha = pd.DataFrame(y_pred)\n",
        "y_linha.loc[y_linha[0] >= .5, 'Class'] = 1\n",
        "y_linha.loc[y_linha[0] <  .5, 'Class'] = 0 \n",
        "\n",
        "#from sklearn.metrics import accuracy_score\n",
        "accuracy_score(y_test, y_linha['Class'])"
      ],
      "id": "bItrqLXWTy1g",
      "execution_count": null,
      "outputs": []
    }
  ],
  "metadata": {
    "kernelspec": {
      "name": "python3",
      "language": "python",
      "display_name": "Python 3 (ipykernel)"
    }
  },
  "nbformat": 4,
  "nbformat_minor": 5
}